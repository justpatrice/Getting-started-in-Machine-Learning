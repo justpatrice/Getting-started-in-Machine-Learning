{
 "cells": [
  {
   "cell_type": "markdown",
   "metadata": {},
   "source": [
    "## Bayesian decision with discrete probabilities"
   ]
  },
  {
   "cell_type": "markdown",
   "metadata": {},
   "source": [
    "- A student visits open days at three different universities willing to study  a BEng in EEE. These three different universities are U1, U2 and U3. These are classes $\\omega_1$, $\\omega_2$ and $\\omega_3$. \n",
    "\n",
    "- The student knows that universities have done the following decisions about making applications to their degrees for students attending their open days:\n",
    "\n",
    "| University | U1 | U2 | U3 |\n",
    "|------------|----|----|----|\n",
    "| Probability|0.3 | 0.5|0.2 |\n",
    "\n",
    "These are your **prior probabilities** or $P(\\omega_1)$, $P(\\omega_2)$ and $P(\\omega_3)$."
   ]
  },
  {
   "cell_type": "markdown",
   "metadata": {},
   "source": [
    "- The student also knows the *likelihoods* of these three universities based on the analysis of the student experiences  ($x$) in the open day. \n",
    "\n",
    "|$p(x | \\omega_i)$ |  U1  |  U2  |  U3  |\n",
    "|----------------|------|------|------|\n",
    "|Exciting        | 0.7  | 0.6  |  0.3 |\n",
    "|Boring          | 0.3  | 0.4  |  0.7 |"
   ]
  },
  {
   "cell_type": "markdown",
   "metadata": {},
   "source": [
    "- The decision that the student faces is where to apply for a degree after he attends the open day for all three universities. \n",
    "\n",
    "That is, he starts computing $P(\\omega_i | x)$ where $x$ stands for an exciting open day. This means he  needs to use the Bayes' rule. \n",
    "\n",
    "$$ P(\\omega_i \\vert x) = \\frac{p(x \\vert \\omega_i)P(\\omega_i)}{P(x)} $$"
   ]
  },
  {
   "cell_type": "markdown",
   "metadata": {},
   "source": [
    "### Computing $P(x)$\n",
    "\n",
    "This is the probability of getting an exciting open day. In this case, this is:\n",
    "\n",
    "$$ P(x) = \\sum_{i=1}^{i=3}p(x \\vert \\omega_i)P(\\omega_i) $$\n",
    "\n",
    "In other words:\n",
    "\n",
    "P(exciting) = p(exciting | U1)P(U1) + p(exciting | U2)P(U2) + p(exciting | U3)P(U3)  \n",
    "\n",
    "$$P(x) = 0.7*0.3 + 0.6*0.5 + 0.3*0.2  = 0.57$$\n",
    "\n",
    "Thus, P(boring) = 1 - 0.57 = 0.43, or is it?\n",
    "\n",
    "$$P(\\bar x) = 0.3*0.3 + 0.4*0.5 + 0.7*0.2  = 0.43$$\n"
   ]
  },
  {
   "cell_type": "markdown",
   "metadata": {},
   "source": [
    "## Computing $P(\\omega_i \\vert x)$\n",
    "\n",
    "Suppose that the open day was exciting at every university, then \n",
    "\n",
    "$P(U1 \\vert x) = \\frac{0.7*0.3}{0.57} = 0.37 $\n",
    "\n",
    "$P(U2 \\vert x) = \\frac{0.6*0.5}{0.57} = 0.53 $\n",
    "\n",
    "$P(U3 \\vert x) = \\frac{0.3*0.2}{0.57} = 0.10 $\n",
    "\n",
    "The last probability could have been obtained as $1 - (0.37 + 0.53)$ = 0.1 "
   ]
  },
  {
   "cell_type": "markdown",
   "metadata": {},
   "source": [
    "### But what can I do with that? Where should I apply?\n",
    "\n",
    "- As $P(U2 \\vert x) > P(U1 \\vert x) > P(U3 \\vert x)$ then I may decide to apply  to go with university U2.  \n",
    "\n",
    "- But if I decide for U2 the probability of making the wrong choice is of at least 10% "
   ]
  },
  {
   "cell_type": "markdown",
   "metadata": {},
   "source": [
    "## Introducing a loss function\n",
    "\n",
    "Suppose that you read in Glassdoor that graduates from university U1 have average salaries of 4K less a year than university U2 but also gets 1K more than univesity U3. \n",
    "\n",
    "So it means that over say 20 years if you decide to go to university U1 it will cost you 80K compared to U2 but you will be better off than U3 in 20K. \n",
    "\n",
    "Costs is a much more complicated matter, because it could be that better paid jobs are likely to be in more expensive cities. Or he may decide to go as sole trader in Ebay and make his money that way. Let's keep things simple for the time being; this is just an exercise to play with these formulas. \n",
    "\n",
    "Finally, we decided that our table of costs or *loss function* is:\n",
    "\n",
    "| $\\lambda (\\alpha_i \\vert \\omega_j)$ |  U1  |  U2  |  U3  | \n",
    "|-------------------------------------|------|------|------|\n",
    "| Apply                               | 80   |   0  |  100 |\n",
    "| Reject                              | 60   |   90 |  0   |\n",
    "\n",
    "- $\\alpha_1$ and $\\alpha_2$ is either apply or reject for a university offer\n",
    "- $\\lambda(\\alpha_i \\vert \\omega_j)$ is the loss (of money) that is projected in the next 20 years if you decide to apply or not apply for a university offer. \n",
    "\n",
    "$$ R(\\alpha_j \\vert x) = \\sum_{j=1}^{j=3} \\lambda(\\alpha_i \\vert \\omega_j)P(\\omega_j \\vert x) $$\n",
    "\n",
    "Remember that *exciting* is being denoted by $x$. \n",
    "\n",
    "$R(apply|x) = \\lambda(apply|U1)P(U1 \\vert x) + \n",
    "                      \\lambda(apply|U2)P(U2 \\vert x) + \n",
    "                      \\lambda(apply|U3)P(U3 \\vert x) $\n",
    "                      \n",
    "$R(\\alpha_1  \\vert x) = 80*0.37 + 0*0.53 + 100*0.1 = 39.6$ \n",
    "\n",
    "$R(\\alpha_2 \\vert x) = 60*0.37 + 90*0.53 + 0*0.1 = 69.9$\n",
    "\n",
    "**Apply** for a place in the university because over 20 years it will cost you less money than to reject a university offer. "
   ]
  },
  {
   "cell_type": "markdown",
   "metadata": {
    "collapsed": true
   },
   "source": [
    "## Improving on our choices and decisions\n",
    "\n",
    "That last step left us not very conviced that the method is helping. As a matter of fact I want to apply for a university placement, I want help in deciding for whether to apply to university U1, U2 or U3. \n",
    "\n",
    "Let's reformulate our *loss function* like this:\n",
    "\n",
    "\n",
    "| $\\lambda (\\alpha_i \\vert \\omega_j)$ |  U1  |  U2  |  U3  | \n",
    "|-------------------------------------|------|------|------|\n",
    "| Apply to U1                         | 0    |  5   |  20  |\n",
    "| Apply to U2                         | 80   |   0  |  100 |\n",
    "| Apply to U3                         | 10   |   20 |  0   |\n",
    "\n",
    "- $\\alpha_1$, $\\alpha_2$ and $\\alpha_3$ is to apply for university U1, U2 and U3 respectively. \n",
    "\n",
    "These values are somehow arbitrary and we need to think about getting this table right. In any case we the calculation goes like this:\n",
    "\n",
    "$R(\\alpha_1  \\vert x) = 0*0.37 + 5*0.53 + 20*0.1 = 4.65$ \n",
    "\n",
    "$R(\\alpha_2  \\vert x) = 80*0.37 + 0*0.53 + 100*0.1 = 39.65$ \n",
    "\n",
    "$R(\\alpha_3  \\vert x) = 10*0.37 + 20*0.53 + 0*0.1 = 14.3$ \n",
    "\n",
    "This may sound counter intuitive but according to this, you should apply to U1 and not to U2 as the posterior probabilities indicate. "
   ]
  },
  {
   "cell_type": "code",
   "execution_count": null,
   "metadata": {
    "collapsed": true
   },
   "outputs": [],
   "source": []
  }
 ],
 "metadata": {
  "kernelspec": {
   "display_name": "Python 3",
   "language": "python",
   "name": "python3"
  },
  "language_info": {
   "codemirror_mode": {
    "name": "ipython",
    "version": 3
   },
   "file_extension": ".py",
   "mimetype": "text/x-python",
   "name": "python",
   "nbconvert_exporter": "python",
   "pygments_lexer": "ipython3",
   "version": "3.6.2"
  }
 },
 "nbformat": 4,
 "nbformat_minor": 2
}
