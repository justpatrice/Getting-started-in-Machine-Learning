{
 "cells": [
  {
   "cell_type": "code",
   "execution_count": null,
   "metadata": {
    "collapsed": true
   },
   "outputs": [],
   "source": [
    "import numpy as np\n",
    "import pandas as pd"
   ]
  },
  {
   "cell_type": "markdown",
   "metadata": {},
   "source": [
    "### A local example\n",
    "\n",
    "These words below are module descriptions of 4 teaching modules of the CSI division and 4 teaching modules from the EE division. We also have a single module from each division for testing. This is a very contrived example"
   ]
  },
  {
   "cell_type": "code",
   "execution_count": 2,
   "metadata": {
    "collapsed": true
   },
   "outputs": [],
   "source": [
    "CSI_7_MAL = 'The module introduces you to the basic theory, concepts, and techniques of \\\n",
    "  machine learning using Python (or a contemporary equivalent language), \\\n",
    "    and its role in data science, pattern recognition, and data mining. \\\n",
    "    It will cover the main topics and essential theory in the area. \\\n",
    "    The module also focuses on developing practical skills in designing \\\n",
    "    and developing machine learning systems using suitable software (e.g. Python)\\\n",
    "    and algorithms  in order to solve real-world problems.'\n",
    "\n",
    "BIF_5_SSD = 'The principal aim of the module is for you to develop your skills in developing and engineering software\\\n",
    "using objects. This involves the translation of program requirements to software design, the\\\n",
    "implementation of the design in program code, and the testing of the code\\\n",
    "The module also aims to develop your understanding of the issues involved in software development. It\\\n",
    "covers a range of good practices, many of which are reinforced by the practical work that you undertake.\\\n",
    "The emphasis is on developing high quality software through the embodiment of key principles such as\\\n",
    "the separation of concerns and the “keep it simple” maxim. You will also develop new skills in the area of\\\n",
    "GUI design and implementation.'\n",
    "\n",
    "CSI_4_DSA = 'This module teaches the definition of data structures, attributes, arrays, records, linked lists, \\\n",
    "     binary trees and hash tables, using the fundamental elements of programming languages to construct \\\n",
    "them (for example using pointers). Also the derivation of algorithms, problem solving techniques, sequences,\\\n",
    "selections, and repetitions, sorting and searching. The relationship between abstract data types and \\\n",
    "object-oriented classes is introduced and the ready-made implementation of common structures such as\\\n",
    "hash tables in software libraries is explored.'\n",
    "\n",
    "CSI_7_DAT = 'Data Management and Data Quality are increasingly at the heart of every commercial and \\\n",
    "research enterprise, as the value of data increases along with the need for adaptive security. This \\\n",
    "module will give you a critical and evaluative knowledge of the theory, practice and research of \\\n",
    "software engineering techniques for Data Management amid today’s complex and changing \\\n",
    "business/commercial/research environments.'\n",
    "\n",
    "\n",
    "ENG_4_404 = 'This module is intended to introduce the fundamental principles underlying the fields of computer\\\n",
    "programming, electrical and electronic engineering. The material in this unit is divided into two parts\\\n",
    "entitled; Analogue Electronics and Electrical Engineering. The Analogue Electronics part covers the\\\n",
    "introduction to passive components, ideal sources, circuit elements, circuit analysis, PN diodes,\\\n",
    "transistors and switching circuits in which their role in creating standard analogue electronic circuit\\\n",
    "building blocks. Such analogue electronic circuit concepts will then be used to create simple analogue\\\n",
    "system designs The Electrical part: introduces the concept of AC complex circuits, electrical impedance\\\n",
    "and complex power in electrical circuits; to provide an understanding to electromagnetic induction,\\\n",
    "through understanding of Faraday’s Law and a good introduction to single phase transformers; and to\\\n",
    "enhance technical ability in Electrical Engineering this will also introduce the basics of single phase and\\\n",
    "three phase alternating systems.'\n",
    "\n",
    "ENG_4_406 = 'This module aims to introduce the fundamentals of combinatorial logic design and the hardware \\\n",
    "and the software tools involved. Further topics include logical reduction through use of \\\n",
    "Karnaugh maps, sequential logic, timing circuits and devices.'\n",
    "\n",
    "ENG_5_557 = 'This module aims to teach the student material that an Electronic engineer should know before\\\n",
    "proceeding with analogue, digital and microprocessor system designs. This includes topics\\\n",
    "relating to electronic component and subsystem behaviour, system modelling, microprocessor\\\n",
    "and related hardware operation and programming. General background is provided to the\\\n",
    "technologies that are available for implementation and modelling of electronic and\\\n",
    "microprocessor based systems together with examples of simple applications that can be used\\\n",
    "in various engineering product designs.'\n",
    "\n",
    "ENG_6_423 = 'The module builds on the level 5 module Principles of Control. It introduces a range of Analogue\\\n",
    "and Digital Control methods to estimate system dynamics and to improve system stability, servo\\\n",
    "tracking and regulation of system outputs against unknown disturbances. Implementation of\\\n",
    "these methods in a laboratory closely supports the theory.\\\n",
    "The application oriented parts of the module involve members of the teaching team from all the\\\n",
    "faculty departments and use case studies and laboratory work relating specifically to the\\\n",
    "individual disciplines.'\n",
    "\n",
    "test_csi = 'Digital evidence features in just about every part of our personal and business lives. Legal and business decisions\\\n",
    "hinge on having timely data about what people have actually done. This online module will help you understand \\\n",
    "how to conduct investigations to correctly gather, analyse and present digital evidence to both business and legal\\\n",
    "audiences. You will also learn how to find tools to locate and analyse digital evidence on a variety of devices,\\\n",
    "including mobile phones, and how to keep up to date with changing technologies, laws and regulations in digital\\\n",
    "forensics.'\n",
    "\n",
    "test_ee = 'This module provides deep understanding of some of the main aspects of wireless communication technologies,\\\n",
    "various radio channel models, wireless communication networks and satellite communication systems. Particular\\\n",
    "emphasis will be given to current wireless technologies and architectures, design approaches and applications.'"
   ]
  },
  {
   "cell_type": "code",
   "execution_count": 3,
   "metadata": {},
   "outputs": [],
   "source": [
    "## Al modules into a so-called corpus\n",
    "modules = [CSI_7_MAL, CSI_4_DSA, BIF_5_SSD, CSI_7_DAT, ENG_4_404, ENG_6_423, ENG_5_557, ENG_4_406, test_csi, test_ee]"
   ]
  },
  {
   "cell_type": "markdown",
   "metadata": {},
   "source": [
    "A clever thing for processing text. See https://en.wikipedia.org/wiki/Tf%E2%80%93idf"
   ]
  },
  {
   "cell_type": "code",
   "execution_count": 4,
   "metadata": {
    "collapsed": true
   },
   "outputs": [],
   "source": [
    "from sklearn.feature_extraction.text import TfidfVectorizer"
   ]
  },
  {
   "cell_type": "code",
   "execution_count": 5,
   "metadata": {},
   "outputs": [
    {
     "name": "stderr",
     "output_type": "stream",
     "text": [
      "F:\\MyAnaconda\\lib\\site-packages\\sklearn\\feature_extraction\\text.py:1089: FutureWarning: Conversion of the second argument of issubdtype from `float` to `np.floating` is deprecated. In future, it will be treated as `np.float64 == np.dtype(float).type`.\n",
      "  if hasattr(X, 'dtype') and np.issubdtype(X.dtype, np.float):\n"
     ]
    }
   ],
   "source": [
    "vec = TfidfVectorizer()\n",
    "\n",
    "## Al module descriptors\n",
    "X = vec.fit_transform(modules)\n",
    "\n",
    "# The first 8 modules descriptors: 4 from CSI and 4 from EE \n",
    "X_train = X[0:8]\n",
    "\n",
    "# We know to which division those descriptors belong\n",
    "y_train = pd.DataFrame(4*['CSI'] + 4*['EE'])\n",
    "\n",
    "# The last two (assumed) unknown descriptors \n",
    "X_test = X[8:10]"
   ]
  },
  {
   "cell_type": "code",
   "execution_count": 6,
   "metadata": {},
   "outputs": [
    {
     "data": {
      "text/html": [
       "<div>\n",
       "<style scoped>\n",
       "    .dataframe tbody tr th:only-of-type {\n",
       "        vertical-align: middle;\n",
       "    }\n",
       "\n",
       "    .dataframe tbody tr th {\n",
       "        vertical-align: top;\n",
       "    }\n",
       "\n",
       "    .dataframe thead th {\n",
       "        text-align: right;\n",
       "    }\n",
       "</style>\n",
       "<table border=\"1\" class=\"dataframe\">\n",
       "  <thead>\n",
       "    <tr style=\"text-align: right;\">\n",
       "      <th></th>\n",
       "      <th>ability</th>\n",
       "      <th>about</th>\n",
       "      <th>abstract</th>\n",
       "      <th>ac</th>\n",
       "      <th>actually</th>\n",
       "      <th>adaptive</th>\n",
       "      <th>against</th>\n",
       "      <th>aim</th>\n",
       "      <th>aims</th>\n",
       "      <th>algorithms</th>\n",
       "      <th>...</th>\n",
       "      <th>various</th>\n",
       "      <th>what</th>\n",
       "      <th>which</th>\n",
       "      <th>will</th>\n",
       "      <th>wireless</th>\n",
       "      <th>with</th>\n",
       "      <th>work</th>\n",
       "      <th>world</th>\n",
       "      <th>you</th>\n",
       "      <th>your</th>\n",
       "    </tr>\n",
       "  </thead>\n",
       "  <tbody>\n",
       "    <tr>\n",
       "      <th>0</th>\n",
       "      <td>0.000000</td>\n",
       "      <td>0.000000</td>\n",
       "      <td>0.000000</td>\n",
       "      <td>0.000000</td>\n",
       "      <td>0.000000</td>\n",
       "      <td>0.000000</td>\n",
       "      <td>0.000000</td>\n",
       "      <td>0.000000</td>\n",
       "      <td>0.000000</td>\n",
       "      <td>0.104277</td>\n",
       "      <td>...</td>\n",
       "      <td>0.000000</td>\n",
       "      <td>0.000000</td>\n",
       "      <td>0.000000</td>\n",
       "      <td>0.065850</td>\n",
       "      <td>0.000000</td>\n",
       "      <td>0.000000</td>\n",
       "      <td>0.000000</td>\n",
       "      <td>0.122665</td>\n",
       "      <td>0.081110</td>\n",
       "      <td>0.000000</td>\n",
       "    </tr>\n",
       "    <tr>\n",
       "      <th>1</th>\n",
       "      <td>0.000000</td>\n",
       "      <td>0.000000</td>\n",
       "      <td>0.122008</td>\n",
       "      <td>0.000000</td>\n",
       "      <td>0.000000</td>\n",
       "      <td>0.000000</td>\n",
       "      <td>0.000000</td>\n",
       "      <td>0.000000</td>\n",
       "      <td>0.000000</td>\n",
       "      <td>0.103718</td>\n",
       "      <td>...</td>\n",
       "      <td>0.000000</td>\n",
       "      <td>0.000000</td>\n",
       "      <td>0.000000</td>\n",
       "      <td>0.000000</td>\n",
       "      <td>0.000000</td>\n",
       "      <td>0.000000</td>\n",
       "      <td>0.000000</td>\n",
       "      <td>0.000000</td>\n",
       "      <td>0.000000</td>\n",
       "      <td>0.000000</td>\n",
       "    </tr>\n",
       "    <tr>\n",
       "      <th>2</th>\n",
       "      <td>0.000000</td>\n",
       "      <td>0.000000</td>\n",
       "      <td>0.000000</td>\n",
       "      <td>0.000000</td>\n",
       "      <td>0.000000</td>\n",
       "      <td>0.000000</td>\n",
       "      <td>0.000000</td>\n",
       "      <td>0.089651</td>\n",
       "      <td>0.066676</td>\n",
       "      <td>0.000000</td>\n",
       "      <td>...</td>\n",
       "      <td>0.000000</td>\n",
       "      <td>0.000000</td>\n",
       "      <td>0.076211</td>\n",
       "      <td>0.048127</td>\n",
       "      <td>0.000000</td>\n",
       "      <td>0.000000</td>\n",
       "      <td>0.076211</td>\n",
       "      <td>0.000000</td>\n",
       "      <td>0.177839</td>\n",
       "      <td>0.179301</td>\n",
       "    </tr>\n",
       "    <tr>\n",
       "      <th>3</th>\n",
       "      <td>0.000000</td>\n",
       "      <td>0.000000</td>\n",
       "      <td>0.000000</td>\n",
       "      <td>0.000000</td>\n",
       "      <td>0.000000</td>\n",
       "      <td>0.128408</td>\n",
       "      <td>0.000000</td>\n",
       "      <td>0.000000</td>\n",
       "      <td>0.000000</td>\n",
       "      <td>0.000000</td>\n",
       "      <td>...</td>\n",
       "      <td>0.000000</td>\n",
       "      <td>0.000000</td>\n",
       "      <td>0.000000</td>\n",
       "      <td>0.068933</td>\n",
       "      <td>0.000000</td>\n",
       "      <td>0.095501</td>\n",
       "      <td>0.000000</td>\n",
       "      <td>0.000000</td>\n",
       "      <td>0.084907</td>\n",
       "      <td>0.000000</td>\n",
       "    </tr>\n",
       "    <tr>\n",
       "      <th>4</th>\n",
       "      <td>0.072631</td>\n",
       "      <td>0.000000</td>\n",
       "      <td>0.000000</td>\n",
       "      <td>0.072631</td>\n",
       "      <td>0.000000</td>\n",
       "      <td>0.000000</td>\n",
       "      <td>0.000000</td>\n",
       "      <td>0.000000</td>\n",
       "      <td>0.000000</td>\n",
       "      <td>0.000000</td>\n",
       "      <td>...</td>\n",
       "      <td>0.000000</td>\n",
       "      <td>0.000000</td>\n",
       "      <td>0.061743</td>\n",
       "      <td>0.077981</td>\n",
       "      <td>0.000000</td>\n",
       "      <td>0.000000</td>\n",
       "      <td>0.000000</td>\n",
       "      <td>0.000000</td>\n",
       "      <td>0.000000</td>\n",
       "      <td>0.000000</td>\n",
       "    </tr>\n",
       "    <tr>\n",
       "      <th>5</th>\n",
       "      <td>0.000000</td>\n",
       "      <td>0.000000</td>\n",
       "      <td>0.000000</td>\n",
       "      <td>0.000000</td>\n",
       "      <td>0.000000</td>\n",
       "      <td>0.000000</td>\n",
       "      <td>0.118232</td>\n",
       "      <td>0.000000</td>\n",
       "      <td>0.000000</td>\n",
       "      <td>0.000000</td>\n",
       "      <td>...</td>\n",
       "      <td>0.000000</td>\n",
       "      <td>0.000000</td>\n",
       "      <td>0.000000</td>\n",
       "      <td>0.000000</td>\n",
       "      <td>0.000000</td>\n",
       "      <td>0.000000</td>\n",
       "      <td>0.100508</td>\n",
       "      <td>0.000000</td>\n",
       "      <td>0.000000</td>\n",
       "      <td>0.000000</td>\n",
       "    </tr>\n",
       "    <tr>\n",
       "      <th>6</th>\n",
       "      <td>0.000000</td>\n",
       "      <td>0.000000</td>\n",
       "      <td>0.000000</td>\n",
       "      <td>0.000000</td>\n",
       "      <td>0.000000</td>\n",
       "      <td>0.000000</td>\n",
       "      <td>0.000000</td>\n",
       "      <td>0.000000</td>\n",
       "      <td>0.090651</td>\n",
       "      <td>0.000000</td>\n",
       "      <td>...</td>\n",
       "      <td>0.103615</td>\n",
       "      <td>0.000000</td>\n",
       "      <td>0.000000</td>\n",
       "      <td>0.000000</td>\n",
       "      <td>0.000000</td>\n",
       "      <td>0.181302</td>\n",
       "      <td>0.000000</td>\n",
       "      <td>0.000000</td>\n",
       "      <td>0.000000</td>\n",
       "      <td>0.000000</td>\n",
       "    </tr>\n",
       "    <tr>\n",
       "      <th>7</th>\n",
       "      <td>0.000000</td>\n",
       "      <td>0.000000</td>\n",
       "      <td>0.000000</td>\n",
       "      <td>0.000000</td>\n",
       "      <td>0.000000</td>\n",
       "      <td>0.000000</td>\n",
       "      <td>0.000000</td>\n",
       "      <td>0.000000</td>\n",
       "      <td>0.147154</td>\n",
       "      <td>0.000000</td>\n",
       "      <td>...</td>\n",
       "      <td>0.000000</td>\n",
       "      <td>0.000000</td>\n",
       "      <td>0.000000</td>\n",
       "      <td>0.000000</td>\n",
       "      <td>0.000000</td>\n",
       "      <td>0.000000</td>\n",
       "      <td>0.000000</td>\n",
       "      <td>0.000000</td>\n",
       "      <td>0.000000</td>\n",
       "      <td>0.000000</td>\n",
       "    </tr>\n",
       "    <tr>\n",
       "      <th>8</th>\n",
       "      <td>0.000000</td>\n",
       "      <td>0.198712</td>\n",
       "      <td>0.000000</td>\n",
       "      <td>0.000000</td>\n",
       "      <td>0.099356</td>\n",
       "      <td>0.000000</td>\n",
       "      <td>0.000000</td>\n",
       "      <td>0.000000</td>\n",
       "      <td>0.000000</td>\n",
       "      <td>0.000000</td>\n",
       "      <td>...</td>\n",
       "      <td>0.000000</td>\n",
       "      <td>0.099356</td>\n",
       "      <td>0.000000</td>\n",
       "      <td>0.106674</td>\n",
       "      <td>0.000000</td>\n",
       "      <td>0.073894</td>\n",
       "      <td>0.000000</td>\n",
       "      <td>0.000000</td>\n",
       "      <td>0.131394</td>\n",
       "      <td>0.000000</td>\n",
       "    </tr>\n",
       "    <tr>\n",
       "      <th>9</th>\n",
       "      <td>0.000000</td>\n",
       "      <td>0.000000</td>\n",
       "      <td>0.000000</td>\n",
       "      <td>0.000000</td>\n",
       "      <td>0.000000</td>\n",
       "      <td>0.000000</td>\n",
       "      <td>0.000000</td>\n",
       "      <td>0.000000</td>\n",
       "      <td>0.000000</td>\n",
       "      <td>0.000000</td>\n",
       "      <td>...</td>\n",
       "      <td>0.130298</td>\n",
       "      <td>0.000000</td>\n",
       "      <td>0.000000</td>\n",
       "      <td>0.082282</td>\n",
       "      <td>0.459824</td>\n",
       "      <td>0.000000</td>\n",
       "      <td>0.000000</td>\n",
       "      <td>0.000000</td>\n",
       "      <td>0.000000</td>\n",
       "      <td>0.000000</td>\n",
       "    </tr>\n",
       "  </tbody>\n",
       "</table>\n",
       "<p>10 rows × 371 columns</p>\n",
       "</div>"
      ],
      "text/plain": [
       "    ability     about  abstract        ac  actually  adaptive   against  \\\n",
       "0  0.000000  0.000000  0.000000  0.000000  0.000000  0.000000  0.000000   \n",
       "1  0.000000  0.000000  0.122008  0.000000  0.000000  0.000000  0.000000   \n",
       "2  0.000000  0.000000  0.000000  0.000000  0.000000  0.000000  0.000000   \n",
       "3  0.000000  0.000000  0.000000  0.000000  0.000000  0.128408  0.000000   \n",
       "4  0.072631  0.000000  0.000000  0.072631  0.000000  0.000000  0.000000   \n",
       "5  0.000000  0.000000  0.000000  0.000000  0.000000  0.000000  0.118232   \n",
       "6  0.000000  0.000000  0.000000  0.000000  0.000000  0.000000  0.000000   \n",
       "7  0.000000  0.000000  0.000000  0.000000  0.000000  0.000000  0.000000   \n",
       "8  0.000000  0.198712  0.000000  0.000000  0.099356  0.000000  0.000000   \n",
       "9  0.000000  0.000000  0.000000  0.000000  0.000000  0.000000  0.000000   \n",
       "\n",
       "        aim      aims  algorithms    ...      various      what     which  \\\n",
       "0  0.000000  0.000000    0.104277    ...     0.000000  0.000000  0.000000   \n",
       "1  0.000000  0.000000    0.103718    ...     0.000000  0.000000  0.000000   \n",
       "2  0.089651  0.066676    0.000000    ...     0.000000  0.000000  0.076211   \n",
       "3  0.000000  0.000000    0.000000    ...     0.000000  0.000000  0.000000   \n",
       "4  0.000000  0.000000    0.000000    ...     0.000000  0.000000  0.061743   \n",
       "5  0.000000  0.000000    0.000000    ...     0.000000  0.000000  0.000000   \n",
       "6  0.000000  0.090651    0.000000    ...     0.103615  0.000000  0.000000   \n",
       "7  0.000000  0.147154    0.000000    ...     0.000000  0.000000  0.000000   \n",
       "8  0.000000  0.000000    0.000000    ...     0.000000  0.099356  0.000000   \n",
       "9  0.000000  0.000000    0.000000    ...     0.130298  0.000000  0.000000   \n",
       "\n",
       "       will  wireless      with      work     world       you      your  \n",
       "0  0.065850  0.000000  0.000000  0.000000  0.122665  0.081110  0.000000  \n",
       "1  0.000000  0.000000  0.000000  0.000000  0.000000  0.000000  0.000000  \n",
       "2  0.048127  0.000000  0.000000  0.076211  0.000000  0.177839  0.179301  \n",
       "3  0.068933  0.000000  0.095501  0.000000  0.000000  0.084907  0.000000  \n",
       "4  0.077981  0.000000  0.000000  0.000000  0.000000  0.000000  0.000000  \n",
       "5  0.000000  0.000000  0.000000  0.100508  0.000000  0.000000  0.000000  \n",
       "6  0.000000  0.000000  0.181302  0.000000  0.000000  0.000000  0.000000  \n",
       "7  0.000000  0.000000  0.000000  0.000000  0.000000  0.000000  0.000000  \n",
       "8  0.106674  0.000000  0.073894  0.000000  0.000000  0.131394  0.000000  \n",
       "9  0.082282  0.459824  0.000000  0.000000  0.000000  0.000000  0.000000  \n",
       "\n",
       "[10 rows x 371 columns]"
      ]
     },
     "execution_count": 6,
     "metadata": {},
     "output_type": "execute_result"
    }
   ],
   "source": [
    "## This is how the text has been transformed to by the tf-idf thing\n",
    "pd.DataFrame(X.toarray(), columns=vec.get_feature_names())"
   ]
  },
  {
   "cell_type": "code",
   "execution_count": 7,
   "metadata": {
    "collapsed": true
   },
   "outputs": [],
   "source": [
    "from sklearn.naive_bayes import MultinomialNB"
   ]
  },
  {
   "cell_type": "code",
   "execution_count": 8,
   "metadata": {
    "collapsed": true
   },
   "outputs": [],
   "source": [
    "model = MultinomialNB()"
   ]
  },
  {
   "cell_type": "code",
   "execution_count": 9,
   "metadata": {},
   "outputs": [
    {
     "name": "stderr",
     "output_type": "stream",
     "text": [
      "F:\\MyAnaconda\\lib\\site-packages\\sklearn\\utils\\validation.py:547: DataConversionWarning: A column-vector y was passed when a 1d array was expected. Please change the shape of y to (n_samples, ), for example using ravel().\n",
      "  y = column_or_1d(y, warn=True)\n"
     ]
    },
    {
     "data": {
      "text/plain": [
       "MultinomialNB(alpha=1.0, class_prior=None, fit_prior=True)"
      ]
     },
     "execution_count": 9,
     "metadata": {},
     "output_type": "execute_result"
    }
   ],
   "source": [
    "# training\n",
    "model.fit(X_train, y_train)"
   ]
  },
  {
   "cell_type": "code",
   "execution_count": 10,
   "metadata": {
    "collapsed": true
   },
   "outputs": [],
   "source": [
    "# our predictions\n",
    "labels = model.predict(X_test)"
   ]
  },
  {
   "cell_type": "code",
   "execution_count": 11,
   "metadata": {},
   "outputs": [
    {
     "name": "stdout",
     "output_type": "stream",
     "text": [
      "['CSI' 'EE']\n"
     ]
    }
   ],
   "source": [
    "# Let's see the predictions\n",
    "print (labels)"
   ]
  },
  {
   "cell_type": "markdown",
   "metadata": {},
   "source": [
    "That is a nice surprising result!"
   ]
  },
  {
   "cell_type": "code",
   "execution_count": 12,
   "metadata": {},
   "outputs": [
    {
     "data": {
      "text/plain": [
       "array([[0.51406694, 0.48593306],\n",
       "       [0.49878908, 0.50121092]])"
      ]
     },
     "execution_count": 12,
     "metadata": {},
     "output_type": "execute_result"
    }
   ],
   "source": [
    "model.predict_proba(X_test)"
   ]
  },
  {
   "cell_type": "markdown",
   "metadata": {},
   "source": [
    "We were lucky really! But, we can train with all current modules and predict any future module not yet written yet. "
   ]
  },
  {
   "cell_type": "markdown",
   "metadata": {},
   "source": [
    "### An idea for another experiment\n",
    "\n",
    "- List all CS and EE students enrolled in the module. \n",
    "- Anotate in a table like:\n",
    "\n",
    "| Student ID | Age | Height | Division |\n",
    "|------------|----|----|----|\n",
    "\n",
    "- Based on this information alone, can we guess to which division any given student belongs to? \n",
    "- Try only one feature alone and then\n",
    "- Think of any more features such as Home, EU, International, etc. "
   ]
  },
  {
   "cell_type": "code",
   "execution_count": null,
   "metadata": {
    "collapsed": true
   },
   "outputs": [],
   "source": []
  }
 ],
 "metadata": {
  "kernelspec": {
   "display_name": "Python 3",
   "language": "python",
   "name": "python3"
  },
  "language_info": {
   "codemirror_mode": {
    "name": "ipython",
    "version": 3
   },
   "file_extension": ".py",
   "mimetype": "text/x-python",
   "name": "python",
   "nbconvert_exporter": "python",
   "pygments_lexer": "ipython3",
   "version": "3.6.2"
  }
 },
 "nbformat": 4,
 "nbformat_minor": 2
}
