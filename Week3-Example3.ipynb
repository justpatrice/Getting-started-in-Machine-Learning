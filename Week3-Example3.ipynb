{
 "cells": [
  {
   "cell_type": "code",
   "execution_count": 1,
   "metadata": {
    "collapsed": true
   },
   "outputs": [],
   "source": [
    "import numpy as np\n",
    "import pandas as pd\n",
    "import matplotlib.pyplot as plt\n",
    "import seaborn as sns; sns.set()\n",
    "\n",
    "%matplotlib inline"
   ]
  },
  {
   "cell_type": "markdown",
   "metadata": {},
   "source": [
    "### Let's make a multivariate linear regression\n",
    "\n",
    "The following dataset is also common, referred to as the Wine Quality Dataset. A local copy of this dataset is provided in Moodle.\n",
    "https://archive.ics.uci.edu/ml/datasets/wine+quality"
   ]
  },
  {
   "cell_type": "code",
   "execution_count": 2,
   "metadata": {
    "scrolled": true
   },
   "outputs": [
    {
     "data": {
      "text/html": [
       "<div>\n",
       "<style scoped>\n",
       "    .dataframe tbody tr th:only-of-type {\n",
       "        vertical-align: middle;\n",
       "    }\n",
       "\n",
       "    .dataframe tbody tr th {\n",
       "        vertical-align: top;\n",
       "    }\n",
       "\n",
       "    .dataframe thead th {\n",
       "        text-align: right;\n",
       "    }\n",
       "</style>\n",
       "<table border=\"1\" class=\"dataframe\">\n",
       "  <thead>\n",
       "    <tr style=\"text-align: right;\">\n",
       "      <th></th>\n",
       "      <th>FAcidity</th>\n",
       "      <th>VAcidity</th>\n",
       "      <th>Citric</th>\n",
       "      <th>Sugar</th>\n",
       "      <th>Chlorides</th>\n",
       "      <th>SugarDioxide</th>\n",
       "      <th>SulfurDioxide</th>\n",
       "      <th>Density</th>\n",
       "      <th>pH</th>\n",
       "      <th>Sulphates</th>\n",
       "      <th>Alcohol</th>\n",
       "      <th>Quality</th>\n",
       "    </tr>\n",
       "  </thead>\n",
       "  <tbody>\n",
       "    <tr>\n",
       "      <th>4893</th>\n",
       "      <td>6.2</td>\n",
       "      <td>0.21</td>\n",
       "      <td>0.29</td>\n",
       "      <td>1.6</td>\n",
       "      <td>0.039</td>\n",
       "      <td>24.0</td>\n",
       "      <td>92.0</td>\n",
       "      <td>0.99114</td>\n",
       "      <td>3.27</td>\n",
       "      <td>0.50</td>\n",
       "      <td>11.2</td>\n",
       "      <td>6</td>\n",
       "    </tr>\n",
       "    <tr>\n",
       "      <th>4894</th>\n",
       "      <td>6.6</td>\n",
       "      <td>0.32</td>\n",
       "      <td>0.36</td>\n",
       "      <td>8.0</td>\n",
       "      <td>0.047</td>\n",
       "      <td>57.0</td>\n",
       "      <td>168.0</td>\n",
       "      <td>0.99490</td>\n",
       "      <td>3.15</td>\n",
       "      <td>0.46</td>\n",
       "      <td>9.6</td>\n",
       "      <td>5</td>\n",
       "    </tr>\n",
       "    <tr>\n",
       "      <th>4895</th>\n",
       "      <td>6.5</td>\n",
       "      <td>0.24</td>\n",
       "      <td>0.19</td>\n",
       "      <td>1.2</td>\n",
       "      <td>0.041</td>\n",
       "      <td>30.0</td>\n",
       "      <td>111.0</td>\n",
       "      <td>0.99254</td>\n",
       "      <td>2.99</td>\n",
       "      <td>0.46</td>\n",
       "      <td>9.4</td>\n",
       "      <td>6</td>\n",
       "    </tr>\n",
       "    <tr>\n",
       "      <th>4896</th>\n",
       "      <td>5.5</td>\n",
       "      <td>0.29</td>\n",
       "      <td>0.30</td>\n",
       "      <td>1.1</td>\n",
       "      <td>0.022</td>\n",
       "      <td>20.0</td>\n",
       "      <td>110.0</td>\n",
       "      <td>0.98869</td>\n",
       "      <td>3.34</td>\n",
       "      <td>0.38</td>\n",
       "      <td>12.8</td>\n",
       "      <td>7</td>\n",
       "    </tr>\n",
       "    <tr>\n",
       "      <th>4897</th>\n",
       "      <td>6.0</td>\n",
       "      <td>0.21</td>\n",
       "      <td>0.38</td>\n",
       "      <td>0.8</td>\n",
       "      <td>0.020</td>\n",
       "      <td>22.0</td>\n",
       "      <td>98.0</td>\n",
       "      <td>0.98941</td>\n",
       "      <td>3.26</td>\n",
       "      <td>0.32</td>\n",
       "      <td>11.8</td>\n",
       "      <td>6</td>\n",
       "    </tr>\n",
       "  </tbody>\n",
       "</table>\n",
       "</div>"
      ],
      "text/plain": [
       "      FAcidity  VAcidity  Citric  Sugar  Chlorides  SugarDioxide  \\\n",
       "4893       6.2      0.21    0.29    1.6      0.039          24.0   \n",
       "4894       6.6      0.32    0.36    8.0      0.047          57.0   \n",
       "4895       6.5      0.24    0.19    1.2      0.041          30.0   \n",
       "4896       5.5      0.29    0.30    1.1      0.022          20.0   \n",
       "4897       6.0      0.21    0.38    0.8      0.020          22.0   \n",
       "\n",
       "      SulfurDioxide  Density    pH  Sulphates  Alcohol  Quality  \n",
       "4893           92.0  0.99114  3.27       0.50     11.2        6  \n",
       "4894          168.0  0.99490  3.15       0.46      9.6        5  \n",
       "4895          111.0  0.99254  2.99       0.46      9.4        6  \n",
       "4896          110.0  0.98869  3.34       0.38     12.8        7  \n",
       "4897           98.0  0.98941  3.26       0.32     11.8        6  "
      ]
     },
     "execution_count": 2,
     "metadata": {},
     "output_type": "execute_result"
    }
   ],
   "source": [
    "wine = pd.read_csv('winequality-white.csv')\n",
    "wine.tail()"
   ]
  },
  {
   "cell_type": "code",
   "execution_count": 3,
   "metadata": {
    "collapsed": true
   },
   "outputs": [],
   "source": [
    "from sklearn.linear_model import LinearRegression\n",
    "lm = LinearRegression(fit_intercept=True)"
   ]
  },
  {
   "cell_type": "code",
   "execution_count": 4,
   "metadata": {
    "collapsed": true
   },
   "outputs": [],
   "source": [
    "# Extracting data\n",
    "X = wine.drop(['Quality'], axis=1)\n",
    "y = wine['Quality']"
   ]
  },
  {
   "cell_type": "code",
   "execution_count": 5,
   "metadata": {
    "collapsed": true
   },
   "outputs": [],
   "source": [
    "from sklearn.model_selection import train_test_split"
   ]
  },
  {
   "cell_type": "code",
   "execution_count": 6,
   "metadata": {
    "collapsed": true
   },
   "outputs": [],
   "source": [
    "# Making a split\n",
    "X_train, X_test, y_train, y_test = train_test_split(X, y)"
   ]
  },
  {
   "cell_type": "code",
   "execution_count": 7,
   "metadata": {},
   "outputs": [
    {
     "name": "stdout",
     "output_type": "stream",
     "text": [
      "[ 1.11843762e-01 -1.82456260e+00 -1.09491232e-02  1.04383826e-01\n",
      "  2.16467479e-01  3.32388078e-03  7.98537570e-05 -2.13812331e+02\n",
      "  9.14831857e-01  6.61417218e-01  1.22981002e-01] 212.8055483320244\n"
     ]
    }
   ],
   "source": [
    "# training the model\n",
    "lm.fit(X_train, y_train)\n",
    "print (lm.coef_, lm.intercept_);"
   ]
  },
  {
   "cell_type": "code",
   "execution_count": 8,
   "metadata": {
    "collapsed": true
   },
   "outputs": [],
   "source": [
    "# Let's make predictions\n",
    "y_pred = lm.predict(X_test)"
   ]
  },
  {
   "cell_type": "code",
   "execution_count": 9,
   "metadata": {},
   "outputs": [
    {
     "name": "stdout",
     "output_type": "stream",
     "text": [
      "Score of model in training group: 0.29\n",
      "Score of model in test group: 0.26\n"
     ]
    }
   ],
   "source": [
    "print ('Score of model in training group: {0:2.2f}'.format(lm.score(X_train, y_train)))\n",
    "print ('Score of model in test group: {0:2.2f}'.format(lm.score(X_test, y_test)))"
   ]
  },
  {
   "cell_type": "code",
   "execution_count": 10,
   "metadata": {},
   "outputs": [
    {
     "name": "stdout",
     "output_type": "stream",
     "text": [
      "105     6\n",
      "1158    6\n",
      "1690    4\n",
      "766     5\n",
      "2568    6\n",
      "Name: Quality, dtype: int64\n"
     ]
    }
   ],
   "source": [
    "print (y_test[0:5])"
   ]
  },
  {
   "cell_type": "code",
   "execution_count": 11,
   "metadata": {},
   "outputs": [
    {
     "name": "stdout",
     "output_type": "stream",
     "text": [
      "[6.05115789 5.52327682 4.79996594 5.02396403 5.53980039]\n"
     ]
    }
   ],
   "source": [
    "print (y_pred[0:5])"
   ]
  },
  {
   "cell_type": "code",
   "execution_count": 12,
   "metadata": {},
   "outputs": [
    {
     "name": "stdout",
     "output_type": "stream",
     "text": [
      "536 1225\n"
     ]
    }
   ],
   "source": [
    "print (np.sum(y_test == np.round(y_pred.astype(np.int))), y_pred.size)\n",
    "# Comment what is being done here"
   ]
  },
  {
   "cell_type": "code",
   "execution_count": 13,
   "metadata": {},
   "outputs": [
    {
     "name": "stdout",
     "output_type": "stream",
     "text": [
      "Mean square error is: 0.59\n"
     ]
    }
   ],
   "source": [
    "mse = np.square(np.subtract(y_test.values, y_pred)).mean()\n",
    "print ('Mean square error is: {0:2.2f}'.format(mse))"
   ]
  },
  {
   "cell_type": "code",
   "execution_count": 14,
   "metadata": {
    "collapsed": true
   },
   "outputs": [],
   "source": [
    "from sklearn.model_selection import cross_val_score"
   ]
  },
  {
   "cell_type": "code",
   "execution_count": 15,
   "metadata": {},
   "outputs": [
    {
     "name": "stdout",
     "output_type": "stream",
     "text": [
      "Mean square error is (neg): -0.58\n"
     ]
    }
   ],
   "source": [
    "scores = cross_val_score(lm, X, y, scoring = 'neg_mean_squared_error', cv=5)\n",
    "#scores = cross_val_score(lm, X, y, cv=10)\n",
    "print ('Mean square error is (neg): {0:2.2f}'.format(scores.mean()))"
   ]
  },
  {
   "cell_type": "markdown",
   "metadata": {},
   "source": [
    "### Using ridge regression"
   ]
  },
  {
   "cell_type": "code",
   "execution_count": 16,
   "metadata": {
    "collapsed": true
   },
   "outputs": [],
   "source": [
    "from sklearn.linear_model import Ridge"
   ]
  },
  {
   "cell_type": "code",
   "execution_count": 34,
   "metadata": {
    "collapsed": true
   },
   "outputs": [],
   "source": [
    "rlm = Ridge(alpha=1.0, fit_intercept=True)"
   ]
  },
  {
   "cell_type": "code",
   "execution_count": 35,
   "metadata": {},
   "outputs": [
    {
     "name": "stdout",
     "output_type": "stream",
     "text": [
      "[-4.92546149e-02 -1.86287461e+00 -5.34697664e-02  2.82301633e-02\n",
      " -3.94642510e-01  4.81723595e-03 -8.73415202e-04 -1.73940251e-01\n",
      "  2.11328537e-01  3.64663010e-01  3.70799981e-01] 1.950126882526066\n"
     ]
    }
   ],
   "source": [
    "rlm.fit(X_train, y_train)\n",
    "print (rlm.coef_, rlm.intercept_);"
   ]
  },
  {
   "cell_type": "code",
   "execution_count": 36,
   "metadata": {},
   "outputs": [
    {
     "name": "stdout",
     "output_type": "stream",
     "text": [
      "Score of Ridge model in training group: 0.27\n",
      "Score of Ridge model in test group: 0.27\n"
     ]
    }
   ],
   "source": [
    "print ('Score of Ridge model in training group: {0:2.2f}'.format(rlm.score(X_train, y_train)))\n",
    "print ('Score of Ridge model in test group: {0:2.2f}'.format(rlm.score(X_test, y_test)))"
   ]
  },
  {
   "cell_type": "code",
   "execution_count": 37,
   "metadata": {},
   "outputs": [
    {
     "name": "stdout",
     "output_type": "stream",
     "text": [
      "Mean square error with Ridge is: 0.59\n"
     ]
    }
   ],
   "source": [
    "# Let's make predictions\n",
    "y_rpred = rlm.predict(X_test)\n",
    "rmse = np.square(np.subtract(y_test.values, y_rpred)).mean()\n",
    "print ('Mean square error with Ridge is: {0:2.2f}'.format(rmse))"
   ]
  },
  {
   "cell_type": "code",
   "execution_count": 38,
   "metadata": {},
   "outputs": [
    {
     "name": "stdout",
     "output_type": "stream",
     "text": [
      "CV-Mean square Ridge error is (neg): -0.59\n"
     ]
    }
   ],
   "source": [
    "rscores = cross_val_score(rlm, X, y, scoring = 'neg_mean_squared_error', cv=5)\n",
    "print ('CV-Mean square Ridge error is (neg): {0:2.2f}'.format(rscores.mean()))"
   ]
  },
  {
   "cell_type": "markdown",
   "metadata": {},
   "source": [
    "### Using Lasso"
   ]
  },
  {
   "cell_type": "code",
   "execution_count": 39,
   "metadata": {
    "collapsed": true
   },
   "outputs": [],
   "source": [
    "from sklearn.linear_model import Lasso"
   ]
  },
  {
   "cell_type": "code",
   "execution_count": 40,
   "metadata": {},
   "outputs": [
    {
     "name": "stdout",
     "output_type": "stream",
     "text": [
      "[-0.04832289 -0.83951702  0.          0.02327581 -0.          0.00629506\n",
      " -0.00134174 -0.          0.          0.          0.35322401] 2.5323865595117967\n",
      "Lasso coefficients different from zero: 6\n"
     ]
    }
   ],
   "source": [
    "llm = Lasso(alpha=0.01, fit_intercept=True, max_iter=10000)\n",
    "llm.fit(X_train, y_train)\n",
    "print (llm.coef_, llm.intercept_);\n",
    "print ('Lasso coefficients different from zero: {}'.format(np.sum(llm.coef_ != 0)))"
   ]
  },
  {
   "cell_type": "code",
   "execution_count": 41,
   "metadata": {},
   "outputs": [
    {
     "name": "stdout",
     "output_type": "stream",
     "text": [
      "Score of Lasso model in training group: 0.25\n",
      "Score of Lasso model in test group: 0.24\n"
     ]
    }
   ],
   "source": [
    "print ('Score of Lasso model in training group: {0:2.2f}'.format(llm.score(X_train, y_train)))\n",
    "print ('Score of Lasso model in test group: {0:2.2f}'.format(llm.score(X_test, y_test)))"
   ]
  },
  {
   "cell_type": "code",
   "execution_count": 42,
   "metadata": {},
   "outputs": [
    {
     "name": "stdout",
     "output_type": "stream",
     "text": [
      "Mean square error with Lasso is: 0.61\n"
     ]
    }
   ],
   "source": [
    "# Let's make predictions\n",
    "y_lpred = llm.predict(X_test)\n",
    "lmse = np.square(np.subtract(y_test.values, y_lpred)).mean()\n",
    "print ('Mean square error with Lasso is: {0:2.2f}'.format(lmse))"
   ]
  },
  {
   "cell_type": "code",
   "execution_count": 43,
   "metadata": {},
   "outputs": [
    {
     "name": "stdout",
     "output_type": "stream",
     "text": [
      "CV-Mean square Lasso error is (neg): -0.59\n"
     ]
    }
   ],
   "source": [
    "lscores = cross_val_score(llm, X, y, scoring = 'neg_mean_squared_error', cv=10)\n",
    "print ('CV-Mean square Lasso error is (neg): {0:2.2f}'.format(lscores.mean()))"
   ]
  },
  {
   "cell_type": "markdown",
   "metadata": {},
   "source": [
    "### Polynomial features"
   ]
  },
  {
   "cell_type": "code",
   "execution_count": 44,
   "metadata": {
    "collapsed": true
   },
   "outputs": [],
   "source": [
    "from sklearn.preprocessing import PolynomialFeatures"
   ]
  },
  {
   "cell_type": "code",
   "execution_count": 45,
   "metadata": {
    "collapsed": true
   },
   "outputs": [],
   "source": [
    "poly = PolynomialFeatures(3)"
   ]
  },
  {
   "cell_type": "code",
   "execution_count": 46,
   "metadata": {
    "collapsed": true
   },
   "outputs": [],
   "source": [
    "Xp_train = poly.fit_transform(X_train)\n",
    "Xp_test = poly.fit_transform(X_test)"
   ]
  },
  {
   "cell_type": "code",
   "execution_count": 47,
   "metadata": {
    "collapsed": true
   },
   "outputs": [],
   "source": [
    "lm.fit(Xp_train, y_train)\n",
    "# Let's make a prediction\n",
    "yp_predict = lm.predict(Xp_test)"
   ]
  },
  {
   "cell_type": "code",
   "execution_count": 48,
   "metadata": {},
   "outputs": [
    {
     "name": "stdout",
     "output_type": "stream",
     "text": [
      "Mean square error with Polynomial is: 0.61\n"
     ]
    }
   ],
   "source": [
    "pmse = np.square(np.subtract(y_test.values, yp_predict)).mean()\n",
    "print ('Mean square error with Polynomial is: {0:2.2f}'.format(lmse))"
   ]
  },
  {
   "cell_type": "markdown",
   "metadata": {},
   "source": [
    "### Using Stochastic Gradient Descend "
   ]
  },
  {
   "cell_type": "code",
   "execution_count": 49,
   "metadata": {
    "collapsed": true
   },
   "outputs": [],
   "source": [
    "from sklearn.linear_model import SGDRegressor"
   ]
  },
  {
   "cell_type": "code",
   "execution_count": 50,
   "metadata": {
    "collapsed": true
   },
   "outputs": [],
   "source": [
    "gdlm = SGDRegressor(fit_intercept = True, eta0=0.01, learning_rate = 'constant', max_iter = 1000)"
   ]
  },
  {
   "cell_type": "markdown",
   "metadata": {},
   "source": [
    "#### Let's scale the columns between 0 and 1"
   ]
  },
  {
   "cell_type": "code",
   "execution_count": 51,
   "metadata": {},
   "outputs": [
    {
     "data": {
      "text/html": [
       "<div>\n",
       "<style scoped>\n",
       "    .dataframe tbody tr th:only-of-type {\n",
       "        vertical-align: middle;\n",
       "    }\n",
       "\n",
       "    .dataframe tbody tr th {\n",
       "        vertical-align: top;\n",
       "    }\n",
       "\n",
       "    .dataframe thead th {\n",
       "        text-align: right;\n",
       "    }\n",
       "</style>\n",
       "<table border=\"1\" class=\"dataframe\">\n",
       "  <thead>\n",
       "    <tr style=\"text-align: right;\">\n",
       "      <th></th>\n",
       "      <th>FAcidity</th>\n",
       "      <th>VAcidity</th>\n",
       "      <th>Citric</th>\n",
       "      <th>Sugar</th>\n",
       "      <th>Chlorides</th>\n",
       "      <th>SugarDioxide</th>\n",
       "      <th>SulfurDioxide</th>\n",
       "      <th>Density</th>\n",
       "      <th>pH</th>\n",
       "      <th>Sulphates</th>\n",
       "      <th>Alcohol</th>\n",
       "      <th>Quality</th>\n",
       "    </tr>\n",
       "  </thead>\n",
       "  <tbody>\n",
       "    <tr>\n",
       "      <th>0</th>\n",
       "      <td>0.307692</td>\n",
       "      <td>0.186275</td>\n",
       "      <td>0.216867</td>\n",
       "      <td>0.308282</td>\n",
       "      <td>0.106825</td>\n",
       "      <td>0.149826</td>\n",
       "      <td>0.373550</td>\n",
       "      <td>0.267785</td>\n",
       "      <td>0.254545</td>\n",
       "      <td>0.267442</td>\n",
       "      <td>0.129032</td>\n",
       "      <td>0.5</td>\n",
       "    </tr>\n",
       "    <tr>\n",
       "      <th>1</th>\n",
       "      <td>0.240385</td>\n",
       "      <td>0.215686</td>\n",
       "      <td>0.204819</td>\n",
       "      <td>0.015337</td>\n",
       "      <td>0.118694</td>\n",
       "      <td>0.041812</td>\n",
       "      <td>0.285383</td>\n",
       "      <td>0.132832</td>\n",
       "      <td>0.527273</td>\n",
       "      <td>0.313953</td>\n",
       "      <td>0.241935</td>\n",
       "      <td>0.5</td>\n",
       "    </tr>\n",
       "    <tr>\n",
       "      <th>2</th>\n",
       "      <td>0.413462</td>\n",
       "      <td>0.196078</td>\n",
       "      <td>0.240964</td>\n",
       "      <td>0.096626</td>\n",
       "      <td>0.121662</td>\n",
       "      <td>0.097561</td>\n",
       "      <td>0.204176</td>\n",
       "      <td>0.154039</td>\n",
       "      <td>0.490909</td>\n",
       "      <td>0.255814</td>\n",
       "      <td>0.338710</td>\n",
       "      <td>0.5</td>\n",
       "    </tr>\n",
       "    <tr>\n",
       "      <th>3</th>\n",
       "      <td>0.326923</td>\n",
       "      <td>0.147059</td>\n",
       "      <td>0.192771</td>\n",
       "      <td>0.121166</td>\n",
       "      <td>0.145401</td>\n",
       "      <td>0.156794</td>\n",
       "      <td>0.410673</td>\n",
       "      <td>0.163678</td>\n",
       "      <td>0.427273</td>\n",
       "      <td>0.209302</td>\n",
       "      <td>0.306452</td>\n",
       "      <td>0.5</td>\n",
       "    </tr>\n",
       "    <tr>\n",
       "      <th>4</th>\n",
       "      <td>0.326923</td>\n",
       "      <td>0.147059</td>\n",
       "      <td>0.192771</td>\n",
       "      <td>0.121166</td>\n",
       "      <td>0.145401</td>\n",
       "      <td>0.156794</td>\n",
       "      <td>0.410673</td>\n",
       "      <td>0.163678</td>\n",
       "      <td>0.427273</td>\n",
       "      <td>0.209302</td>\n",
       "      <td>0.306452</td>\n",
       "      <td>0.5</td>\n",
       "    </tr>\n",
       "  </tbody>\n",
       "</table>\n",
       "</div>"
      ],
      "text/plain": [
       "   FAcidity  VAcidity    Citric     Sugar  Chlorides  SugarDioxide  \\\n",
       "0  0.307692  0.186275  0.216867  0.308282   0.106825      0.149826   \n",
       "1  0.240385  0.215686  0.204819  0.015337   0.118694      0.041812   \n",
       "2  0.413462  0.196078  0.240964  0.096626   0.121662      0.097561   \n",
       "3  0.326923  0.147059  0.192771  0.121166   0.145401      0.156794   \n",
       "4  0.326923  0.147059  0.192771  0.121166   0.145401      0.156794   \n",
       "\n",
       "   SulfurDioxide   Density        pH  Sulphates   Alcohol  Quality  \n",
       "0       0.373550  0.267785  0.254545   0.267442  0.129032      0.5  \n",
       "1       0.285383  0.132832  0.527273   0.313953  0.241935      0.5  \n",
       "2       0.204176  0.154039  0.490909   0.255814  0.338710      0.5  \n",
       "3       0.410673  0.163678  0.427273   0.209302  0.306452      0.5  \n",
       "4       0.410673  0.163678  0.427273   0.209302  0.306452      0.5  "
      ]
     },
     "execution_count": 51,
     "metadata": {},
     "output_type": "execute_result"
    }
   ],
   "source": [
    "## Let's scale the columns between 0 and 1\n",
    "for i in range(12):\n",
    "    cmin = wine.iloc[:,i].min()\n",
    "    cmax = wine.iloc[:,i].max()\n",
    "    wine.iloc[:,i] = (wine.iloc[:,i]-cmin)/(cmax-cmin)\n",
    "    \n",
    "wine.head()"
   ]
  },
  {
   "cell_type": "code",
   "execution_count": 52,
   "metadata": {
    "collapsed": true
   },
   "outputs": [],
   "source": [
    "# Extracting data\n",
    "X = wine.drop(['Quality'], axis=1)\n",
    "y = wine['Quality']"
   ]
  },
  {
   "cell_type": "code",
   "execution_count": 53,
   "metadata": {},
   "outputs": [
    {
     "name": "stdout",
     "output_type": "stream",
     "text": [
      "-0.01616297109283539\n"
     ]
    }
   ],
   "source": [
    "#scores = cross_val_score(gdlm, X, y, cv=10)\n",
    "scores = cross_val_score(gdlm, X, y, scoring='neg_mean_squared_error', cv=5)\n",
    "print(scores.mean())"
   ]
  },
  {
   "cell_type": "code",
   "execution_count": 54,
   "metadata": {
    "collapsed": true
   },
   "outputs": [],
   "source": [
    "# Making a split\n",
    "Xs_train = X.iloc[np.array(X_train.index), :]\n",
    "Xs_test = X.iloc[np.array(X_test.index), :]\n",
    "ys_train = y.iloc[np.array(y_train.index)]\n",
    "ys_test = y.iloc[np.array(y_test.index)]"
   ]
  },
  {
   "cell_type": "code",
   "execution_count": 55,
   "metadata": {
    "collapsed": true
   },
   "outputs": [],
   "source": [
    "gdlm.fit(Xs_train, ys_train);\n",
    "ys_pred = gdlm.predict(Xs_test)"
   ]
  },
  {
   "cell_type": "code",
   "execution_count": 56,
   "metadata": {},
   "outputs": [
    {
     "name": "stdout",
     "output_type": "stream",
     "text": [
      "Mean square error with Sotchastic Gradient is: 0.016\n"
     ]
    }
   ],
   "source": [
    "sgmse = np.square(np.subtract(ys_test.values, ys_pred)).mean()\n",
    "print ('Mean square error with Sotchastic Gradient is: {0:2.3f}'.format(sgmse))"
   ]
  },
  {
   "cell_type": "code",
   "execution_count": 57,
   "metadata": {},
   "outputs": [
    {
     "name": "stdout",
     "output_type": "stream",
     "text": [
      "105     0.500000\n",
      "1158    0.500000\n",
      "1690    0.166667\n",
      "766     0.333333\n",
      "2568    0.500000\n",
      "Name: Quality, dtype: float64\n"
     ]
    }
   ],
   "source": [
    "print (ys_test[0:5])"
   ]
  },
  {
   "cell_type": "code",
   "execution_count": 58,
   "metadata": {},
   "outputs": [
    {
     "name": "stdout",
     "output_type": "stream",
     "text": [
      "[0.49087844 0.42504224 0.31374166 0.36475132 0.43798399]\n"
     ]
    }
   ],
   "source": [
    "print (ys_pred[0:5])"
   ]
  },
  {
   "cell_type": "code",
   "execution_count": 59,
   "metadata": {},
   "outputs": [
    {
     "data": {
      "text/plain": [
       "array([ 0.01677361, -0.31537438, -0.00874946,  0.60527135, -0.02186955,\n",
       "        0.19456977, -0.02915065, -0.70319573,  0.08833637,  0.07060021,\n",
       "        0.28605032])"
      ]
     },
     "execution_count": 59,
     "metadata": {},
     "output_type": "execute_result"
    }
   ],
   "source": [
    "gdlm.coef_"
   ]
  },
  {
   "cell_type": "markdown",
   "metadata": {},
   "source": [
    "Is this misleading?"
   ]
  },
  {
   "cell_type": "code",
   "execution_count": null,
   "metadata": {
    "collapsed": true
   },
   "outputs": [],
   "source": []
  }
 ],
 "metadata": {
  "kernelspec": {
   "display_name": "Python 3",
   "language": "python",
   "name": "python3"
  },
  "language_info": {
   "codemirror_mode": {
    "name": "ipython",
    "version": 3
   },
   "file_extension": ".py",
   "mimetype": "text/x-python",
   "name": "python",
   "nbconvert_exporter": "python",
   "pygments_lexer": "ipython3",
   "version": "3.6.2"
  }
 },
 "nbformat": 4,
 "nbformat_minor": 2
}
