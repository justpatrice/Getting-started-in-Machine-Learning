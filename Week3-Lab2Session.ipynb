{
 "cells": [
  {
   "cell_type": "markdown",
   "metadata": {},
   "source": [
    "#### Guidelines\n",
    "\n",
    "Up to now you are probably familiar with downloading and opening Jupyter Notebooks. \n",
    "In this Notebook, there are a series of cells divided into three categories:\n",
    "\n",
    "- Numpy: This is a Python package to deal with numerical data of the same type\n",
    "- Pandas: A Python package to deal with data organised as tables\n",
    "- Matplotlib/Seaborn: Packages to deal with plotting data\n",
    "\n",
    "Each section below has a series of cells with very simple but common ways to manipulate data. Each cell can be run independently and may have comments. However we expect you to follow the instructor as he progresses through the Notebook. "
   ]
  },
  {
   "cell_type": "markdown",
   "metadata": {},
   "source": [
    "### Numpy"
   ]
  },
  {
   "cell_type": "code",
   "execution_count": null,
   "metadata": {
    "collapsed": true
   },
   "outputs": [],
   "source": [
    "# A Python list with some numbers\n",
    "l1 = [1, 8.9, 9.9, 4.2, 2]\n",
    "\n",
    "# Note the list contains elements that are either integers or floating point numbers"
   ]
  },
  {
   "cell_type": "code",
   "execution_count": null,
   "metadata": {},
   "outputs": [],
   "source": [
    "# Let's sum them\n",
    "l1sum = 0\n",
    "for val in l1:\n",
    "    l1sum += val\n",
    "    \n",
    "print (l1sum)"
   ]
  },
  {
   "cell_type": "markdown",
   "metadata": {},
   "source": [
    "Sum of all elements of a list or array is a very common operation. It would be most convenient to simply request the sum rather than programming it all the time. "
   ]
  },
  {
   "cell_type": "code",
   "execution_count": null,
   "metadata": {
    "collapsed": true
   },
   "outputs": [],
   "source": [
    "import numpy as np"
   ]
  },
  {
   "cell_type": "code",
   "execution_count": null,
   "metadata": {},
   "outputs": [],
   "source": [
    "l1 = np.array(l1)\n",
    "\n",
    "print (l1.sum())"
   ]
  },
  {
   "cell_type": "markdown",
   "metadata": {},
   "source": [
    "#### Why do we bother?"
   ]
  },
  {
   "cell_type": "code",
   "execution_count": null,
   "metadata": {
    "collapsed": true
   },
   "outputs": [],
   "source": [
    "N = 100000\n",
    "xl = [np.random.rand() for i in range(N)] "
   ]
  },
  {
   "cell_type": "code",
   "execution_count": null,
   "metadata": {},
   "outputs": [],
   "source": [
    "%%timeit \n",
    "xlsum = 0\n",
    "for val in xl:\n",
    "    xlsum += val\n",
    "    "
   ]
  },
  {
   "cell_type": "code",
   "execution_count": null,
   "metadata": {
    "collapsed": true
   },
   "outputs": [],
   "source": [
    "x = np.random.rand(N)"
   ]
  },
  {
   "cell_type": "code",
   "execution_count": null,
   "metadata": {},
   "outputs": [],
   "source": [
    "%timeit xsum = x.sum()"
   ]
  },
  {
   "cell_type": "markdown",
   "metadata": {},
   "source": [
    "That's why. Using Numpy functions is much faster than crafting computations with our own for loops"
   ]
  },
  {
   "cell_type": "code",
   "execution_count": null,
   "metadata": {},
   "outputs": [],
   "source": [
    "x = np.array([8, 4, 16, 32, 2], dtype=np.int)  # An array of integer types\n",
    "xmed = np.median(x).astype(int)\n",
    "xmean = np.mean(x)\n",
    "xstd = np.std(x)\n",
    "print ('The median is: {:d}'.format(xmed))\n",
    "print ('The mean is: {:f}'.format(xmean))\n",
    "print ('The standard deviation is: {:2.2f}'.format(xstd))"
   ]
  },
  {
   "cell_type": "code",
   "execution_count": null,
   "metadata": {},
   "outputs": [],
   "source": [
    "# Sorting \n",
    "xs = np.sort(x)\n",
    "xs"
   ]
  },
  {
   "cell_type": "code",
   "execution_count": null,
   "metadata": {},
   "outputs": [],
   "source": [
    "idxs = np.argsort(x)      # Finds the positions of x that sorts the values\n",
    "print (x)\n",
    "print (idxs)              \n",
    "print (x[idxs])           # The elements of x that correspond to positions 'idxs'"
   ]
  },
  {
   "cell_type": "code",
   "execution_count": null,
   "metadata": {},
   "outputs": [],
   "source": [
    "# Indexing\n",
    "print (x)      # Array x \n",
    "print (x[0])   # Value at position zero\n",
    "print (x[-1])  # Value at last position"
   ]
  },
  {
   "cell_type": "code",
   "execution_count": null,
   "metadata": {},
   "outputs": [],
   "source": [
    "# Slicing\n",
    "print (x)\n",
    "print (x[1:4])    # Positions 1, 2, 3\n",
    "print (x[-3:-1])  # Positions 2 and 3 or (5-3 and  5-2)"
   ]
  },
  {
   "cell_type": "code",
   "execution_count": null,
   "metadata": {},
   "outputs": [],
   "source": [
    "# More slicing\n",
    "print (x)\n",
    "print (x[1:])      # all values from position 1 \n",
    "print (x[:-1])     # all positions except last one\n",
    "print (x[1:-1:2])  # every other value from position 1 to previous to last"
   ]
  },
  {
   "cell_type": "code",
   "execution_count": null,
   "metadata": {},
   "outputs": [],
   "source": [
    "# some sums\n",
    "print (x)\n",
    "print (x[1:] + x[:-1])  # a sum \n",
    "print (np.cumsum(x))    # a cumulative sum"
   ]
  },
  {
   "cell_type": "code",
   "execution_count": null,
   "metadata": {},
   "outputs": [],
   "source": [
    "# Some computation\n",
    "w0, w1, w2 = -3, 2, 1\n",
    "W = np.array([w0, w1, w2])\n",
    "y = np.dot(W, np.sort(x[0:3]))\n",
    "print (np.sort(x[0:3]))\n",
    "print (W)\n",
    "print (y)\n",
    "\n",
    "\n",
    "# Note the above y value is the same as:\n",
    "print (np.sum(W*np.sort(x[0:3])))"
   ]
  },
  {
   "cell_type": "markdown",
   "metadata": {},
   "source": [
    "#### Working with 2D arrays"
   ]
  },
  {
   "cell_type": "code",
   "execution_count": null,
   "metadata": {},
   "outputs": [],
   "source": [
    "x2 = np.empty((2,3))          # An empty array\n",
    "x2"
   ]
  },
  {
   "cell_type": "code",
   "execution_count": null,
   "metadata": {},
   "outputs": [],
   "source": [
    "a = np.arange(6).reshape(2,3)\n",
    "b = a**2\n",
    "print (a)\n",
    "print (b)\n",
    "np.multiply(a, b, out = x2)\n",
    "print (x2)\n",
    "\n",
    "# Note\n",
    "print (a*b)"
   ]
  },
  {
   "cell_type": "code",
   "execution_count": null,
   "metadata": {},
   "outputs": [],
   "source": [
    "print (x2)\n",
    "print (x2[:,1])   # middle column"
   ]
  },
  {
   "cell_type": "code",
   "execution_count": null,
   "metadata": {},
   "outputs": [],
   "source": [
    "print (x2)\n",
    "print (x2[1,:][1:])  # last two columns in second row"
   ]
  },
  {
   "cell_type": "code",
   "execution_count": null,
   "metadata": {},
   "outputs": [],
   "source": [
    "# Transpose\n",
    "print (x2.T)"
   ]
  },
  {
   "cell_type": "code",
   "execution_count": null,
   "metadata": {},
   "outputs": [],
   "source": [
    "print (x2[0:2,0:2])\n",
    "print (np.linalg.inv(x2[0:2,0:2]))  # inverse of that slice"
   ]
  },
  {
   "cell_type": "code",
   "execution_count": null,
   "metadata": {},
   "outputs": [],
   "source": [
    "# Extracting diagonal\n",
    "x2.diagonal()"
   ]
  },
  {
   "cell_type": "code",
   "execution_count": null,
   "metadata": {},
   "outputs": [],
   "source": [
    "# Min and max of whole array\n",
    "np.min(x2), np.max(x2)"
   ]
  },
  {
   "cell_type": "code",
   "execution_count": null,
   "metadata": {},
   "outputs": [],
   "source": [
    "np.random.shuffle(x2.ravel())\n",
    "print (x2)\n",
    "x2.min(axis=0)   # Minimum over each column"
   ]
  },
  {
   "cell_type": "code",
   "execution_count": null,
   "metadata": {},
   "outputs": [],
   "source": [
    "print (x2)\n",
    "x2.max(axis=1)   # Maximum over each row"
   ]
  },
  {
   "cell_type": "code",
   "execution_count": null,
   "metadata": {},
   "outputs": [],
   "source": [
    "# Masking\n",
    "mask = x2 >= 27\n",
    "print (x2)\n",
    "print (mask)"
   ]
  },
  {
   "cell_type": "code",
   "execution_count": null,
   "metadata": {},
   "outputs": [],
   "source": [
    "print (x2[mask])"
   ]
  },
  {
   "cell_type": "markdown",
   "metadata": {},
   "source": [
    "#### Please read any documentation you find and like\n",
    "https://docs.scipy.org/doc/numpy-1.15.1/user/quickstart.html"
   ]
  },
  {
   "cell_type": "code",
   "execution_count": null,
   "metadata": {
    "collapsed": true
   },
   "outputs": [],
   "source": [
    "import pandas as pd"
   ]
  },
  {
   "cell_type": "code",
   "execution_count": null,
   "metadata": {},
   "outputs": [],
   "source": [
    "mal_class = pd.read_excel('Week3Tutorial.xlsx')\n",
    "print (mal_class.shape[0])\n",
    "mal_class.head()"
   ]
  },
  {
   "cell_type": "code",
   "execution_count": null,
   "metadata": {},
   "outputs": [],
   "source": [
    "mal_class.drop_duplicates(subset='Id', inplace=True)\n",
    "print (mal_class.shape[0])\n",
    "mal_class.head()"
   ]
  },
  {
   "cell_type": "code",
   "execution_count": null,
   "metadata": {},
   "outputs": [],
   "source": [
    "mal_class.drop(columns=['Other'], inplace=True, axis=1)\n",
    "mal_class.head()"
   ]
  },
  {
   "cell_type": "code",
   "execution_count": null,
   "metadata": {},
   "outputs": [],
   "source": [
    "n = mal_class.shape[0]\n",
    "height = np.random.randint(150, 190, n)\n",
    "weight = np.random.rand(n)*35 + 50\n",
    "print (height)"
   ]
  },
  {
   "cell_type": "code",
   "execution_count": null,
   "metadata": {
    "collapsed": true
   },
   "outputs": [],
   "source": [
    "mal_class['Height'] = height\n",
    "mal_class['Weight'] = weight"
   ]
  },
  {
   "cell_type": "code",
   "execution_count": null,
   "metadata": {},
   "outputs": [],
   "source": [
    "mal_class"
   ]
  },
  {
   "cell_type": "markdown",
   "metadata": {},
   "source": [
    "#### BMI index \n",
    "\n",
    "The BMI (Body Mass Index has the formula):\n",
    "\n",
    "$$ BMI = \\frac{weight}{height(cm)^2} $$\n",
    "\n",
    "- A fit person is with a BMI between 18.5 to 24.9\n",
    "- Underweight if BMI is under 18.5\n",
    "- Overweight if BMI is over 25\n"
   ]
  },
  {
   "cell_type": "code",
   "execution_count": null,
   "metadata": {},
   "outputs": [],
   "source": [
    "# Let's add a calculation of the BMI\n",
    "mal_class['BMI'] = mal_class['Weight']/(0.01*mal_class['Height'])**2\n",
    "mal_class.head()"
   ]
  },
  {
   "cell_type": "code",
   "execution_count": null,
   "metadata": {},
   "outputs": [],
   "source": [
    "# Number of males and females in the class\n",
    "mal_class['Gender'].value_counts()"
   ]
  },
  {
   "cell_type": "code",
   "execution_count": null,
   "metadata": {},
   "outputs": [],
   "source": [
    "# Fit people\n",
    "mal_class[(mal_class['BMI'] >= 18.5) & (mal_class['BMI'] <= 24.9)]['Name']\n"
   ]
  },
  {
   "cell_type": "code",
   "execution_count": null,
   "metadata": {},
   "outputs": [],
   "source": [
    "# Underweight\n",
    "mal_class[mal_class['BMI'] < 18.5].BMI"
   ]
  },
  {
   "cell_type": "code",
   "execution_count": null,
   "metadata": {},
   "outputs": [],
   "source": [
    "# Overweight\n",
    "ow = mal_class[mal_class['BMI'] > 24.9].BMI\n",
    "\n",
    "mal_class.loc[ow.index]['Name']"
   ]
  },
  {
   "cell_type": "markdown",
   "metadata": {},
   "source": [
    "### Visualisation basics"
   ]
  },
  {
   "cell_type": "code",
   "execution_count": null,
   "metadata": {
    "collapsed": true
   },
   "outputs": [],
   "source": [
    "import matplotlib.pyplot as plt\n",
    "import seaborn as sns; sns.set(color_codes=True)\n",
    "\n",
    "%matplotlib inline"
   ]
  },
  {
   "cell_type": "code",
   "execution_count": null,
   "metadata": {},
   "outputs": [],
   "source": [
    "plt.scatter(x = mal_class['Height'], y = mal_class['BMI'])"
   ]
  },
  {
   "cell_type": "code",
   "execution_count": null,
   "metadata": {},
   "outputs": [],
   "source": [
    "plt.scatter(x = mal_class['Height'], y = mal_class['BMI'])\n",
    "plt.xlabel('Height in cm')\n",
    "plt.ylabel('BMI');"
   ]
  },
  {
   "cell_type": "code",
   "execution_count": null,
   "metadata": {},
   "outputs": [],
   "source": [
    "plt.scatter(x = mal_class['Height'], y = mal_class['BMI'], c='k', s = 4)\n",
    "plt.xlabel('Height in cm')\n",
    "plt.ylabel('BMI');\n",
    "plt.xlabel('Height in cm')\n",
    "plt.ylabel('BMI');"
   ]
  },
  {
   "cell_type": "code",
   "execution_count": null,
   "metadata": {},
   "outputs": [],
   "source": [
    "data1 = mal_class.groupby(['Gender'])['Weight'].mean()\n",
    "\n",
    "data1"
   ]
  },
  {
   "cell_type": "code",
   "execution_count": null,
   "metadata": {},
   "outputs": [],
   "source": [
    "plt.bar(data1.index, data1.values, alpha=0.4)\n",
    "plt.title('Weight mean in Kgs of males and females ');"
   ]
  },
  {
   "cell_type": "code",
   "execution_count": null,
   "metadata": {},
   "outputs": [],
   "source": [
    "# A pie chart of underweight, fit and overweight\n",
    "# Underweight\n",
    "u = mal_class[mal_class['BMI'] < 18.5].BMI.count()\n",
    "f = mal_class[(mal_class['BMI'] >= 18.5) & (mal_class['BMI'] <= 24.9)].BMI.count()\n",
    "o = mal_class[mal_class['BMI'] > 24.9].BMI.count()\n",
    "\n",
    "plt.pie(x = [u, f, o], labels = ['underweight', 'fit', 'overweight'])\n",
    "plt.title('Distribution of BMI across the class');"
   ]
  },
  {
   "cell_type": "code",
   "execution_count": null,
   "metadata": {},
   "outputs": [],
   "source": [
    "# A density curve of the BMI\n",
    "sns.kdeplot(mal_class.BMI, shade=True, color = \"r\")\n",
    "plt.title('Kernel Density Estimation for BMI');"
   ]
  },
  {
   "cell_type": "code",
   "execution_count": null,
   "metadata": {},
   "outputs": [],
   "source": [
    "import warnings\n",
    "warnings.simplefilter(action='ignore', category=FutureWarning)\n",
    "sns.kdeplot(mal_class.BMI, shade=True, color = \"r\")\n",
    "plt.title('Kernel Density Estimation for BMI');"
   ]
  },
  {
   "cell_type": "code",
   "execution_count": null,
   "metadata": {},
   "outputs": [],
   "source": [
    "# A different plot\n",
    "sns.regplot(x=\"Weight\", y=\"BMI\", data=mal_class);"
   ]
  },
  {
   "cell_type": "markdown",
   "metadata": {},
   "source": [
    "Have a look at this, if you have some time\n",
    "https://robots.thoughtbot.com/analyzing-minards-visualization-of-napoleons-1812-march"
   ]
  },
  {
   "cell_type": "markdown",
   "metadata": {},
   "source": [
    "### Try this tutorial on your own time\n",
    "\n",
    "https://www.lynda.com/Pandas-training-tutorials/7715-0.html\n",
    "\n",
    "Use this time to try things out!\n",
    "\n",
    "- Now you can go back and run again all tutorials from Lecture 1\n",
    "- And from Lecture 2 too!\n",
    "- There are plenty of examples of *numpy*, *pandas* and of different plots \n",
    "\n"
   ]
  }
 ],
 "metadata": {
  "kernelspec": {
   "display_name": "Python 3",
   "language": "python",
   "name": "python3"
  },
  "language_info": {
   "codemirror_mode": {
    "name": "ipython",
    "version": 3
   },
   "file_extension": ".py",
   "mimetype": "text/x-python",
   "name": "python",
   "nbconvert_exporter": "python",
   "pygments_lexer": "ipython3",
   "version": "3.6.2"
  }
 },
 "nbformat": 4,
 "nbformat_minor": 2
}
