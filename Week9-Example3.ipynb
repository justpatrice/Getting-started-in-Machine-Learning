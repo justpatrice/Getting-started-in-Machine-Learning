{
 "cells": [
  {
   "cell_type": "code",
   "execution_count": 1,
   "metadata": {
    "collapsed": true
   },
   "outputs": [],
   "source": [
    "import numpy as np\n",
    "import pandas as pd\n",
    "import matplotlib.pyplot as plt\n",
    "import seaborn as sns; sns.set()\n",
    "\n",
    "%matplotlib inline\n",
    "\n",
    "import warnings\n",
    "warnings.simplefilter(action='ignore', category=FutureWarning)"
   ]
  },
  {
   "cell_type": "markdown",
   "metadata": {},
   "source": [
    "## Introduction\n",
    "In this Notebook, we will demonstrate:\n",
    "- The basic steps to apply the KNN techique for regression on the abalone dataset\n",
    "- To show hot to normalise the data\n",
    "- To show the result or error we get on the regression task\n",
    "- To show how to make simple predictions"
   ]
  },
  {
   "cell_type": "markdown",
   "metadata": {},
   "source": [
    "### Import the dataset\n",
    "\n",
    "This is the file 'abalone.csv'. An **abalone** is a sea snail that looks like:\n",
    "\n",
    "![Abalone](abalone.png )\n",
    "\n",
    "The features of this dataset are: \n",
    "\n",
    "- Sex (M, F, I)\n",
    "- Length \n",
    "- Diameter\n",
    "- Height\n",
    "- Whole weight\n",
    "- Shucked weight\n",
    "- Viscera weight\n",
    "- Shell weight\n",
    "- Rings\n",
    "\n",
    "Note that rings is an integer, eac each can be considered a class or we also use it for regression purposes. \n",
    "It has been reported elsewhere that a classifcation accuracy of around 16% and a RMSE of around 3.2 rings for the prediction of the number of rings. \n",
    "\n",
    "Note that sex has the category I, this stands for infants. "
   ]
  },
  {
   "cell_type": "code",
   "execution_count": 2,
   "metadata": {},
   "outputs": [
    {
     "data": {
      "text/html": [
       "<div>\n",
       "<style scoped>\n",
       "    .dataframe tbody tr th:only-of-type {\n",
       "        vertical-align: middle;\n",
       "    }\n",
       "\n",
       "    .dataframe tbody tr th {\n",
       "        vertical-align: top;\n",
       "    }\n",
       "\n",
       "    .dataframe thead th {\n",
       "        text-align: right;\n",
       "    }\n",
       "</style>\n",
       "<table border=\"1\" class=\"dataframe\">\n",
       "  <thead>\n",
       "    <tr style=\"text-align: right;\">\n",
       "      <th></th>\n",
       "      <th>sex</th>\n",
       "      <th>length</th>\n",
       "      <th>diameter</th>\n",
       "      <th>height</th>\n",
       "      <th>weight</th>\n",
       "      <th>iweight</th>\n",
       "      <th>vweight</th>\n",
       "      <th>sweight</th>\n",
       "      <th>rings</th>\n",
       "    </tr>\n",
       "  </thead>\n",
       "  <tbody>\n",
       "    <tr>\n",
       "      <th>4172</th>\n",
       "      <td>F</td>\n",
       "      <td>0.565</td>\n",
       "      <td>0.450</td>\n",
       "      <td>0.165</td>\n",
       "      <td>0.8870</td>\n",
       "      <td>0.3700</td>\n",
       "      <td>0.2390</td>\n",
       "      <td>0.2490</td>\n",
       "      <td>11</td>\n",
       "    </tr>\n",
       "    <tr>\n",
       "      <th>4173</th>\n",
       "      <td>M</td>\n",
       "      <td>0.590</td>\n",
       "      <td>0.440</td>\n",
       "      <td>0.135</td>\n",
       "      <td>0.9660</td>\n",
       "      <td>0.4390</td>\n",
       "      <td>0.2145</td>\n",
       "      <td>0.2605</td>\n",
       "      <td>10</td>\n",
       "    </tr>\n",
       "    <tr>\n",
       "      <th>4174</th>\n",
       "      <td>M</td>\n",
       "      <td>0.600</td>\n",
       "      <td>0.475</td>\n",
       "      <td>0.205</td>\n",
       "      <td>1.1760</td>\n",
       "      <td>0.5255</td>\n",
       "      <td>0.2875</td>\n",
       "      <td>0.3080</td>\n",
       "      <td>9</td>\n",
       "    </tr>\n",
       "    <tr>\n",
       "      <th>4175</th>\n",
       "      <td>F</td>\n",
       "      <td>0.625</td>\n",
       "      <td>0.485</td>\n",
       "      <td>0.150</td>\n",
       "      <td>1.0945</td>\n",
       "      <td>0.5310</td>\n",
       "      <td>0.2610</td>\n",
       "      <td>0.2960</td>\n",
       "      <td>10</td>\n",
       "    </tr>\n",
       "    <tr>\n",
       "      <th>4176</th>\n",
       "      <td>M</td>\n",
       "      <td>0.710</td>\n",
       "      <td>0.555</td>\n",
       "      <td>0.195</td>\n",
       "      <td>1.9485</td>\n",
       "      <td>0.9455</td>\n",
       "      <td>0.3765</td>\n",
       "      <td>0.4950</td>\n",
       "      <td>12</td>\n",
       "    </tr>\n",
       "  </tbody>\n",
       "</table>\n",
       "</div>"
      ],
      "text/plain": [
       "     sex  length  diameter  height  weight  iweight  vweight  sweight  rings\n",
       "4172   F   0.565     0.450   0.165  0.8870   0.3700   0.2390   0.2490     11\n",
       "4173   M   0.590     0.440   0.135  0.9660   0.4390   0.2145   0.2605     10\n",
       "4174   M   0.600     0.475   0.205  1.1760   0.5255   0.2875   0.3080      9\n",
       "4175   F   0.625     0.485   0.150  1.0945   0.5310   0.2610   0.2960     10\n",
       "4176   M   0.710     0.555   0.195  1.9485   0.9455   0.3765   0.4950     12"
      ]
     },
     "execution_count": 2,
     "metadata": {},
     "output_type": "execute_result"
    }
   ],
   "source": [
    "columns = ['sex', 'length', 'diameter', 'height', 'weight', 'iweight', 'vweight', 'sweight', 'rings']\n",
    "abalone_data = pd.read_csv('abalone.csv', header=None, names=columns)\n",
    "abalone_data.tail()"
   ]
  },
  {
   "cell_type": "code",
   "execution_count": 3,
   "metadata": {},
   "outputs": [
    {
     "data": {
      "text/html": [
       "<div>\n",
       "<style scoped>\n",
       "    .dataframe tbody tr th:only-of-type {\n",
       "        vertical-align: middle;\n",
       "    }\n",
       "\n",
       "    .dataframe tbody tr th {\n",
       "        vertical-align: top;\n",
       "    }\n",
       "\n",
       "    .dataframe thead th {\n",
       "        text-align: right;\n",
       "    }\n",
       "</style>\n",
       "<table border=\"1\" class=\"dataframe\">\n",
       "  <thead>\n",
       "    <tr style=\"text-align: right;\">\n",
       "      <th></th>\n",
       "      <th>sex</th>\n",
       "      <th>length</th>\n",
       "      <th>diameter</th>\n",
       "      <th>height</th>\n",
       "      <th>weight</th>\n",
       "      <th>iweight</th>\n",
       "      <th>vweight</th>\n",
       "      <th>sweight</th>\n",
       "      <th>rings</th>\n",
       "    </tr>\n",
       "  </thead>\n",
       "  <tbody>\n",
       "    <tr>\n",
       "      <th>4172</th>\n",
       "      <td>0.0</td>\n",
       "      <td>0.565</td>\n",
       "      <td>0.450</td>\n",
       "      <td>0.165</td>\n",
       "      <td>0.8870</td>\n",
       "      <td>0.3700</td>\n",
       "      <td>0.2390</td>\n",
       "      <td>0.2490</td>\n",
       "      <td>11</td>\n",
       "    </tr>\n",
       "    <tr>\n",
       "      <th>4173</th>\n",
       "      <td>1.0</td>\n",
       "      <td>0.590</td>\n",
       "      <td>0.440</td>\n",
       "      <td>0.135</td>\n",
       "      <td>0.9660</td>\n",
       "      <td>0.4390</td>\n",
       "      <td>0.2145</td>\n",
       "      <td>0.2605</td>\n",
       "      <td>10</td>\n",
       "    </tr>\n",
       "    <tr>\n",
       "      <th>4174</th>\n",
       "      <td>1.0</td>\n",
       "      <td>0.600</td>\n",
       "      <td>0.475</td>\n",
       "      <td>0.205</td>\n",
       "      <td>1.1760</td>\n",
       "      <td>0.5255</td>\n",
       "      <td>0.2875</td>\n",
       "      <td>0.3080</td>\n",
       "      <td>9</td>\n",
       "    </tr>\n",
       "    <tr>\n",
       "      <th>4175</th>\n",
       "      <td>0.0</td>\n",
       "      <td>0.625</td>\n",
       "      <td>0.485</td>\n",
       "      <td>0.150</td>\n",
       "      <td>1.0945</td>\n",
       "      <td>0.5310</td>\n",
       "      <td>0.2610</td>\n",
       "      <td>0.2960</td>\n",
       "      <td>10</td>\n",
       "    </tr>\n",
       "    <tr>\n",
       "      <th>4176</th>\n",
       "      <td>1.0</td>\n",
       "      <td>0.710</td>\n",
       "      <td>0.555</td>\n",
       "      <td>0.195</td>\n",
       "      <td>1.9485</td>\n",
       "      <td>0.9455</td>\n",
       "      <td>0.3765</td>\n",
       "      <td>0.4950</td>\n",
       "      <td>12</td>\n",
       "    </tr>\n",
       "  </tbody>\n",
       "</table>\n",
       "</div>"
      ],
      "text/plain": [
       "      sex  length  diameter  height  weight  iweight  vweight  sweight  rings\n",
       "4172  0.0   0.565     0.450   0.165  0.8870   0.3700   0.2390   0.2490     11\n",
       "4173  1.0   0.590     0.440   0.135  0.9660   0.4390   0.2145   0.2605     10\n",
       "4174  1.0   0.600     0.475   0.205  1.1760   0.5255   0.2875   0.3080      9\n",
       "4175  0.0   0.625     0.485   0.150  1.0945   0.5310   0.2610   0.2960     10\n",
       "4176  1.0   0.710     0.555   0.195  1.9485   0.9455   0.3765   0.4950     12"
      ]
     },
     "execution_count": 3,
     "metadata": {},
     "output_type": "execute_result"
    }
   ],
   "source": [
    "# change Male to 1 and female to 0, do not run this twice\n",
    "abalone_data['sex'] = abalone_data['sex'].map({'M':1,'F':0, 'I':0.5});\n",
    "abalone_data.tail()"
   ]
  },
  {
   "cell_type": "code",
   "execution_count": 4,
   "metadata": {},
   "outputs": [
    {
     "name": "stdout",
     "output_type": "stream",
     "text": [
      "Min number of rings: 1\n",
      "Max number of rings: 29\n"
     ]
    }
   ],
   "source": [
    "# Maximum and minimun of rings\n",
    "print (\"Min number of rings:\", abalone_data['rings'].min())\n",
    "print (\"Max number of rings:\", abalone_data['rings'].max())"
   ]
  },
  {
   "cell_type": "markdown",
   "metadata": {},
   "source": [
    "### Scaling  data to be between 0, 1 per feature"
   ]
  },
  {
   "cell_type": "code",
   "execution_count": 5,
   "metadata": {},
   "outputs": [
    {
     "name": "stdout",
     "output_type": "stream",
     "text": [
      "Min number of rings: 1.0\n",
      "Max number of rings: 29.0\n"
     ]
    }
   ],
   "source": [
    "from sklearn.preprocessing import MinMaxScaler\n",
    "\n",
    "scaler = MinMaxScaler()\n",
    "\n",
    "scaler.fit(abalone_data);\n",
    "datan = scaler.transform(abalone_data);\n",
    "\n",
    "ymax = scaler.data_max_[-1]\n",
    "ymin = scaler.data_min_[-1]\n",
    "\n",
    "print (\"Min number of rings:\", ymin)\n",
    "print (\"Max number of rings:\", ymax)"
   ]
  },
  {
   "cell_type": "markdown",
   "metadata": {},
   "source": [
    "### Spliting the normalised data into features and targets"
   ]
  },
  {
   "cell_type": "code",
   "execution_count": 6,
   "metadata": {},
   "outputs": [],
   "source": [
    "# Define the independent variables as features.\n",
    "n = abalone_data.shape[0]\n",
    "\n",
    "X = datan[:,0:-1]\n",
    "#y = datan[:, -1].reshape(n,1)\n",
    "y = datan[:, -1]"
   ]
  },
  {
   "cell_type": "markdown",
   "metadata": {},
   "source": [
    "### Create a regressor, using cross validation"
   ]
  },
  {
   "cell_type": "code",
   "execution_count": 7,
   "metadata": {
    "collapsed": true
   },
   "outputs": [],
   "source": [
    "from sklearn.model_selection import cross_val_score\n",
    "from sklearn.neighbors import KNeighborsRegressor\n",
    "knnr = KNeighborsRegressor(n_neighbors=5)"
   ]
  },
  {
   "cell_type": "markdown",
   "metadata": {},
   "source": [
    "### Perform the regression"
   ]
  },
  {
   "cell_type": "code",
   "execution_count": 8,
   "metadata": {},
   "outputs": [
    {
     "name": "stdout",
     "output_type": "stream",
     "text": [
      "Mean square error is (neg): -0.00701\n"
     ]
    }
   ],
   "source": [
    "scores = cross_val_score(knnr, X, y, scoring = 'neg_mean_squared_error', cv=10)\n",
    "print ('Mean square error is (neg): {0:2.5f}'.format(scores.mean()))"
   ]
  },
  {
   "cell_type": "markdown",
   "metadata": {},
   "source": [
    "### Predicting a particular ring\n",
    "\n",
    "Here we will look at a single instance of an abalone. We de-normalise it to see how many rings it has.\n",
    "We fill all data and then estimate the number of rings based on the five closest neighbors. \n"
   ]
  },
  {
   "cell_type": "code",
   "execution_count": 9,
   "metadata": {},
   "outputs": [
    {
     "name": "stdout",
     "output_type": "stream",
     "text": [
      "Abalon at position 1000 has 11.0 rings\n",
      "Abalon at position 1000 has 9.6 predicted rings\n"
     ]
    }
   ],
   "source": [
    "# position of abalone we are interested, any index\n",
    "position = 1000\n",
    "\n",
    "# denormalise it\n",
    "a1000 = datan[position]\n",
    "r1000 = a1000[-1]*(ymax-ymin) + ymin\n",
    "print (\"Abalon at position 1000 has {:1.1f} rings\".format(r1000))\n",
    "\n",
    "# Fit all the data\n",
    "knnr.fit(X, y);\n",
    "pr = knnr.predict([a1000[0:-1]])\n",
    "pr1000 = pr[0]*(ymax-ymin) + ymin\n",
    "print (\"Abalon at position 1000 has {:1.1f} predicted rings\".format(pr1000))"
   ]
  },
  {
   "cell_type": "markdown",
   "metadata": {},
   "source": [
    "## Ideas to try\n",
    "\n",
    "- Remove the infants from the dataset and repeat only for male and female abalone"
   ]
  }
 ],
 "metadata": {
  "kernelspec": {
   "display_name": "Python 3",
   "language": "python",
   "name": "python3"
  },
  "language_info": {
   "codemirror_mode": {
    "name": "ipython",
    "version": 3
   },
   "file_extension": ".py",
   "mimetype": "text/x-python",
   "name": "python",
   "nbconvert_exporter": "python",
   "pygments_lexer": "ipython3",
   "version": "3.6.2"
  }
 },
 "nbformat": 4,
 "nbformat_minor": 2
}
