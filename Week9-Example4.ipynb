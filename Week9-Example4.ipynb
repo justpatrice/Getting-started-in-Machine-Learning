{
 "cells": [
  {
   "cell_type": "code",
   "execution_count": 1,
   "metadata": {
    "collapsed": true
   },
   "outputs": [],
   "source": [
    "import numpy as np\n",
    "import pandas as pd\n",
    "import matplotlib.pyplot as plt\n",
    "import seaborn as sns; sns.set()\n",
    "\n",
    "%matplotlib inline\n",
    "\n",
    "import warnings\n",
    "warnings.simplefilter(action='ignore', category=FutureWarning)"
   ]
  },
  {
   "cell_type": "markdown",
   "metadata": {},
   "source": [
    "## Introduction\n",
    "In this Notebook, we will demonstrate:\n",
    "- The basic steps to apply the KNN techique for classfication on the abalone dataset. \n",
    "- To show the result or score we get on the classification task\n",
    "- Bonus: tuning for parameter $k$\n",
    "\n",
    "Note that previous results have shown a classification accuracy of around 16% \n",
    "\n",
    "**Note**: This Notebook is incomplete in various parts. You need to complete the missing parts. The missing parts that you need to replace appear as CHANGEME"
   ]
  },
  {
   "cell_type": "markdown",
   "metadata": {},
   "source": [
    "### Import the dataset"
   ]
  },
  {
   "cell_type": "code",
   "execution_count": 106,
   "metadata": {},
   "outputs": [
    {
     "data": {
      "text/html": [
       "<div>\n",
       "<style scoped>\n",
       "    .dataframe tbody tr th:only-of-type {\n",
       "        vertical-align: middle;\n",
       "    }\n",
       "\n",
       "    .dataframe tbody tr th {\n",
       "        vertical-align: top;\n",
       "    }\n",
       "\n",
       "    .dataframe thead th {\n",
       "        text-align: right;\n",
       "    }\n",
       "</style>\n",
       "<table border=\"1\" class=\"dataframe\">\n",
       "  <thead>\n",
       "    <tr style=\"text-align: right;\">\n",
       "      <th></th>\n",
       "      <th>sex</th>\n",
       "      <th>length</th>\n",
       "      <th>diameter</th>\n",
       "      <th>height</th>\n",
       "      <th>weight</th>\n",
       "      <th>iweight</th>\n",
       "      <th>vweight</th>\n",
       "      <th>sweight</th>\n",
       "      <th>rings</th>\n",
       "    </tr>\n",
       "  </thead>\n",
       "  <tbody>\n",
       "    <tr>\n",
       "      <th>4172</th>\n",
       "      <td>0.0</td>\n",
       "      <td>0.565</td>\n",
       "      <td>0.450</td>\n",
       "      <td>0.165</td>\n",
       "      <td>0.8870</td>\n",
       "      <td>0.3700</td>\n",
       "      <td>0.2390</td>\n",
       "      <td>0.2490</td>\n",
       "      <td>11</td>\n",
       "    </tr>\n",
       "    <tr>\n",
       "      <th>4173</th>\n",
       "      <td>1.0</td>\n",
       "      <td>0.590</td>\n",
       "      <td>0.440</td>\n",
       "      <td>0.135</td>\n",
       "      <td>0.9660</td>\n",
       "      <td>0.4390</td>\n",
       "      <td>0.2145</td>\n",
       "      <td>0.2605</td>\n",
       "      <td>10</td>\n",
       "    </tr>\n",
       "    <tr>\n",
       "      <th>4174</th>\n",
       "      <td>1.0</td>\n",
       "      <td>0.600</td>\n",
       "      <td>0.475</td>\n",
       "      <td>0.205</td>\n",
       "      <td>1.1760</td>\n",
       "      <td>0.5255</td>\n",
       "      <td>0.2875</td>\n",
       "      <td>0.3080</td>\n",
       "      <td>9</td>\n",
       "    </tr>\n",
       "    <tr>\n",
       "      <th>4175</th>\n",
       "      <td>0.0</td>\n",
       "      <td>0.625</td>\n",
       "      <td>0.485</td>\n",
       "      <td>0.150</td>\n",
       "      <td>1.0945</td>\n",
       "      <td>0.5310</td>\n",
       "      <td>0.2610</td>\n",
       "      <td>0.2960</td>\n",
       "      <td>10</td>\n",
       "    </tr>\n",
       "    <tr>\n",
       "      <th>4176</th>\n",
       "      <td>1.0</td>\n",
       "      <td>0.710</td>\n",
       "      <td>0.555</td>\n",
       "      <td>0.195</td>\n",
       "      <td>1.9485</td>\n",
       "      <td>0.9455</td>\n",
       "      <td>0.3765</td>\n",
       "      <td>0.4950</td>\n",
       "      <td>12</td>\n",
       "    </tr>\n",
       "  </tbody>\n",
       "</table>\n",
       "</div>"
      ],
      "text/plain": [
       "      sex  length  diameter  height  weight  iweight  vweight  sweight  rings\n",
       "4172  0.0   0.565     0.450   0.165  0.8870   0.3700   0.2390   0.2490     11\n",
       "4173  1.0   0.590     0.440   0.135  0.9660   0.4390   0.2145   0.2605     10\n",
       "4174  1.0   0.600     0.475   0.205  1.1760   0.5255   0.2875   0.3080      9\n",
       "4175  0.0   0.625     0.485   0.150  1.0945   0.5310   0.2610   0.2960     10\n",
       "4176  1.0   0.710     0.555   0.195  1.9485   0.9455   0.3765   0.4950     12"
      ]
     },
     "execution_count": 106,
     "metadata": {},
     "output_type": "execute_result"
    }
   ],
   "source": [
    "columns = ['sex', 'length', 'diameter', 'height', 'weight', 'iweight', 'vweight', 'sweight', 'rings']\n",
    "abalone_data = pd.read_csv('CHANGEME.csv', header=None, names=columns)\n",
    "\n",
    "# Let's change the sex to a number\n",
    "abalone_data['sex'] = abalone_data['CHANGEME'].map({'M':1,'F':0, 'I':0.5});\n",
    "\n",
    "abalone_data.tail()"
   ]
  },
  {
   "cell_type": "code",
   "execution_count": 107,
   "metadata": {},
   "outputs": [
    {
     "data": {
      "text/plain": [
       "9     689\n",
       "10    634\n",
       "8     568\n",
       "11    487\n",
       "7     391\n",
       "12    267\n",
       "6     259\n",
       "13    203\n",
       "14    126\n",
       "5     115\n",
       "15    103\n",
       "Name: rings, dtype: int64"
      ]
     },
     "execution_count": 107,
     "metadata": {},
     "output_type": "execute_result"
    }
   ],
   "source": [
    "# abalone_data['rings'].value_counts()\n",
    "# There are categories (number of rings) with very few observations\n",
    "# Let's keep only those categories with over 100 observations\n",
    "\n",
    "abalone_subset = abalone_data.groupby(\"rings\").filter(lambda x: len(x) > 100)\n",
    "\n",
    "abalone_subset['rings'].value_counts()"
   ]
  },
  {
   "cell_type": "markdown",
   "metadata": {},
   "source": [
    "### Separate the data into features and target"
   ]
  },
  {
   "cell_type": "code",
   "execution_count": 108,
   "metadata": {
    "collapsed": true
   },
   "outputs": [],
   "source": [
    "# Define the independent variables as features.\n",
    "X = abalone_subset.drop('rings', axis=1)\n",
    "y = abalone_subset['CHANGEME']"
   ]
  },
  {
   "cell_type": "markdown",
   "metadata": {},
   "source": [
    "### Create the classifier, using cross validation"
   ]
  },
  {
   "cell_type": "code",
   "execution_count": 109,
   "metadata": {
    "collapsed": true
   },
   "outputs": [],
   "source": [
    "# Use 9 neighbors\n",
    "from sklearn.model_selection import cross_val_score\n",
    "from sklearn.neighbors import CHANGEME\n",
    "knn = KNeighborsClassifier(n_neighbors=CHANGEME)"
   ]
  },
  {
   "cell_type": "markdown",
   "metadata": {},
   "source": [
    "### Perform the classification"
   ]
  },
  {
   "cell_type": "code",
   "execution_count": 110,
   "metadata": {},
   "outputs": [
    {
     "name": "stdout",
     "output_type": "stream",
     "text": [
      "Mean score is: 0.25\n"
     ]
    }
   ],
   "source": [
    "# Use a 5-fold cross-validation\n",
    "scores = cross_val_score(knn, X, y, cv=CHANGEME)\n",
    "print ('Mean score is: {0:2.2f}'.format(scores.CHANGEME()))"
   ]
  },
  {
   "cell_type": "markdown",
   "metadata": {},
   "source": [
    "## Bonus\n",
    "Tuning parameter $k$"
   ]
  },
  {
   "cell_type": "code",
   "execution_count": 111,
   "metadata": {
    "collapsed": true
   },
   "outputs": [],
   "source": [
    "# a list of values of k\n",
    "klist = np.arange(CHANGEME, 32,2)"
   ]
  },
  {
   "cell_type": "code",
   "execution_count": 112,
   "metadata": {
    "collapsed": true
   },
   "outputs": [],
   "source": [
    "k_size = klist.size\n",
    "k_scores = np.zeros(k_size)\n",
    "\n",
    "for i,k in enumerate(klist):\n",
    "    knn = KNeighborsClassifier(n_neighbors=k)\n",
    "    kscore = cross_val_score(knn, X, y, cv=CHANGEME)\n",
    "    k_scores[i] = kscore.mean()\n",
    "    "
   ]
  },
  {
   "cell_type": "code",
   "execution_count": 113,
   "metadata": {},
   "outputs": [
    {
     "data": {
      "image/png": "[encoded data removed]",
      "text/plain": [
       "<Figure size 432x288 with 1 Axes>"
      ]
     },
     "metadata": {},
     "output_type": "display_data"
    }
   ],
   "source": [
    "ax = sns.lineplot(klist, k_scores)\n",
    "ax.set_title('KNN accuracy on CHANGEME dataset')\n",
    "ax.set_xlabel('k value')\n",
    "ax.set_ylabel('CHANGEME');"
   ]
  },
  {
   "cell_type": "markdown",
   "metadata": {},
   "source": [
    "### Conclusion\n",
    "A value of $k > CHANGEME$ seems to offer the best accuracy for the this abalone dataset using KNN. For that $k$ value yhe accuracy is much better than the previously reported 16%. "
   ]
  },
  {
   "cell_type": "markdown",
   "metadata": {},
   "source": [
    "### Further idea to explore! more preprocessing the data\n",
    "\n",
    "- Basically, we would like to convert sex of M, F and I something like this. \n",
    "\n",
    "Suppose you have:\n",
    "\n",
    " | Abalone |  M | F | I |\n",
    " |---------|----|---|---|\n",
    " | Abalone1 | 1 | 0 | 0 |\n",
    " | Abalone2 | 0 | 1 | 0 |\n",
    " | Abalone3 | 0 | 0 | 1 |\n",
    "\n",
    "This would indocate that Abalone1 is Male, Abalone2 is Female and Abalone3 is an Infant. \n",
    "This is referred to as a one-hot encoding. Scikit-lear has this. It is called **OneHotEncoder** in *sklearn.preprocessing*.\n",
    "The easiest way is to apply it is to use:\n",
    "\n",
    "from sklearn.preprocessing import LabelBinarizer\n",
    "\n",
    "and read the documentation. "
   ]
  },
  {
   "cell_type": "code",
   "execution_count": null,
   "metadata": {
    "collapsed": true
   },
   "outputs": [],
   "source": []
  }
 ],
 "metadata": {
  "kernelspec": {
   "display_name": "Python 3",
   "language": "python",
   "name": "python3"
  },
  "language_info": {
   "codemirror_mode": {
    "name": "ipython",
    "version": 3
   },
   "file_extension": ".py",
   "mimetype": "text/x-python",
   "name": "python",
   "nbconvert_exporter": "python",
   "pygments_lexer": "ipython3",
   "version": "3.6.2"
  }
 },
 "nbformat": 4,
 "nbformat_minor": 2
}
